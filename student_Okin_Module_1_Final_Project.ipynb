{
 "cells": [
  {
   "cell_type": "markdown",
   "metadata": {},
   "source": [
    "## Final Project Submission\n",
    "\n",
    "* Student name: Evan Okin\n",
    "* Student pace: Self-paced\n",
    "* Scheduled project review date/time: Completed (September 6, 5 PM EST)\n",
    "* Instructor name: Eli Thomas"
   ]
  },
  {
   "cell_type": "markdown",
   "metadata": {},
   "source": [
    "<font color='blue'>This is Evan Okin's project for FlatIron Data Bootcamp's Module 1. I explore a data-set which includes variables that could be potential predictors of house prices. My approach is to load in the data, explore the data, clean the data, and analyze relationships between predictors and house prices. The goal is to use a multiple linear regression which will contain several variables that might contribute to house prices. I will iterate several versions of regression in order to remove variables that turn out to be faulty or don't provide significant value for our model - the dataset has many potential variables to explore. After my final iteration, the model output will hopefully be intuitive enough to provide an understanding for how we can utilize this information to our advantage in a business or personal portfolio context. </font>"
   ]
  },
  {
   "cell_type": "markdown",
   "metadata": {},
   "source": [
    "<font color='green'>Import the data.</font>"
   ]
  },
  {
   "cell_type": "code",
   "execution_count": 1,
   "metadata": {},
   "outputs": [],
   "source": [
    "import pandas as pd\n",
    "df=pd.read_csv('kc_house_data.csv')"
   ]
  },
  {
   "cell_type": "markdown",
   "metadata": {},
   "source": [
    "<font color='green'>Display the first several rows of the data to make sure that it loaded in properly.</font>"
   ]
  },
  {
   "cell_type": "code",
   "execution_count": 2,
   "metadata": {},
   "outputs": [
    {
     "data": {
      "text/html": [
       "<div>\n",
       "<style scoped>\n",
       "    .dataframe tbody tr th:only-of-type {\n",
       "        vertical-align: middle;\n",
       "    }\n",
       "\n",
       "    .dataframe tbody tr th {\n",
       "        vertical-align: top;\n",
       "    }\n",
       "\n",
       "    .dataframe thead th {\n",
       "        text-align: right;\n",
       "    }\n",
       "</style>\n",
       "<table border=\"1\" class=\"dataframe\">\n",
       "  <thead>\n",
       "    <tr style=\"text-align: right;\">\n",
       "      <th></th>\n",
       "      <th>id</th>\n",
       "      <th>date</th>\n",
       "      <th>price</th>\n",
       "      <th>bedrooms</th>\n",
       "      <th>bathrooms</th>\n",
       "      <th>sqft_living</th>\n",
       "      <th>sqft_lot</th>\n",
       "      <th>floors</th>\n",
       "      <th>waterfront</th>\n",
       "      <th>view</th>\n",
       "      <th>...</th>\n",
       "      <th>grade</th>\n",
       "      <th>sqft_above</th>\n",
       "      <th>sqft_basement</th>\n",
       "      <th>yr_built</th>\n",
       "      <th>yr_renovated</th>\n",
       "      <th>zipcode</th>\n",
       "      <th>lat</th>\n",
       "      <th>long</th>\n",
       "      <th>sqft_living15</th>\n",
       "      <th>sqft_lot15</th>\n",
       "    </tr>\n",
       "  </thead>\n",
       "  <tbody>\n",
       "    <tr>\n",
       "      <th>0</th>\n",
       "      <td>7129300520</td>\n",
       "      <td>10/13/2014</td>\n",
       "      <td>221900.0</td>\n",
       "      <td>3</td>\n",
       "      <td>1.00</td>\n",
       "      <td>1180</td>\n",
       "      <td>5650</td>\n",
       "      <td>1.0</td>\n",
       "      <td>NaN</td>\n",
       "      <td>0.0</td>\n",
       "      <td>...</td>\n",
       "      <td>7</td>\n",
       "      <td>1180</td>\n",
       "      <td>0.0</td>\n",
       "      <td>1955</td>\n",
       "      <td>0.0</td>\n",
       "      <td>98178</td>\n",
       "      <td>47.5112</td>\n",
       "      <td>-122.257</td>\n",
       "      <td>1340</td>\n",
       "      <td>5650</td>\n",
       "    </tr>\n",
       "    <tr>\n",
       "      <th>1</th>\n",
       "      <td>6414100192</td>\n",
       "      <td>12/9/2014</td>\n",
       "      <td>538000.0</td>\n",
       "      <td>3</td>\n",
       "      <td>2.25</td>\n",
       "      <td>2570</td>\n",
       "      <td>7242</td>\n",
       "      <td>2.0</td>\n",
       "      <td>0.0</td>\n",
       "      <td>0.0</td>\n",
       "      <td>...</td>\n",
       "      <td>7</td>\n",
       "      <td>2170</td>\n",
       "      <td>400.0</td>\n",
       "      <td>1951</td>\n",
       "      <td>1991.0</td>\n",
       "      <td>98125</td>\n",
       "      <td>47.7210</td>\n",
       "      <td>-122.319</td>\n",
       "      <td>1690</td>\n",
       "      <td>7639</td>\n",
       "    </tr>\n",
       "    <tr>\n",
       "      <th>2</th>\n",
       "      <td>5631500400</td>\n",
       "      <td>2/25/2015</td>\n",
       "      <td>180000.0</td>\n",
       "      <td>2</td>\n",
       "      <td>1.00</td>\n",
       "      <td>770</td>\n",
       "      <td>10000</td>\n",
       "      <td>1.0</td>\n",
       "      <td>0.0</td>\n",
       "      <td>0.0</td>\n",
       "      <td>...</td>\n",
       "      <td>6</td>\n",
       "      <td>770</td>\n",
       "      <td>0.0</td>\n",
       "      <td>1933</td>\n",
       "      <td>NaN</td>\n",
       "      <td>98028</td>\n",
       "      <td>47.7379</td>\n",
       "      <td>-122.233</td>\n",
       "      <td>2720</td>\n",
       "      <td>8062</td>\n",
       "    </tr>\n",
       "  </tbody>\n",
       "</table>\n",
       "<p>3 rows × 21 columns</p>\n",
       "</div>"
      ],
      "text/plain": [
       "           id        date     price  bedrooms  bathrooms  sqft_living  \\\n",
       "0  7129300520  10/13/2014  221900.0         3       1.00         1180   \n",
       "1  6414100192   12/9/2014  538000.0         3       2.25         2570   \n",
       "2  5631500400   2/25/2015  180000.0         2       1.00          770   \n",
       "\n",
       "   sqft_lot  floors  waterfront  view  ...  grade  sqft_above  sqft_basement  \\\n",
       "0      5650     1.0         NaN   0.0  ...      7        1180            0.0   \n",
       "1      7242     2.0         0.0   0.0  ...      7        2170          400.0   \n",
       "2     10000     1.0         0.0   0.0  ...      6         770            0.0   \n",
       "\n",
       "  yr_built  yr_renovated  zipcode      lat     long  sqft_living15  sqft_lot15  \n",
       "0     1955           0.0    98178  47.5112 -122.257           1340        5650  \n",
       "1     1951        1991.0    98125  47.7210 -122.319           1690        7639  \n",
       "2     1933           NaN    98028  47.7379 -122.233           2720        8062  \n",
       "\n",
       "[3 rows x 21 columns]"
      ]
     },
     "execution_count": 2,
     "metadata": {},
     "output_type": "execute_result"
    }
   ],
   "source": [
    "df.head(3)"
   ]
  },
  {
   "cell_type": "markdown",
   "metadata": {},
   "source": [
    "<font color='green'>There are many variables that might influence the variable \"price\" of a house. For example, intuitively, the number of bedrooms should have a positive relationship with home values, which we will check later.</font>"
   ]
  },
  {
   "cell_type": "markdown",
   "metadata": {},
   "source": [
    "<font color='green'>Analyze the dataset using built-in pandas and numpy methods.</font>"
   ]
  },
  {
   "cell_type": "code",
   "execution_count": 3,
   "metadata": {},
   "outputs": [
    {
     "name": "stdout",
     "output_type": "stream",
     "text": [
      "<class 'pandas.core.frame.DataFrame'>\n",
      "RangeIndex: 21597 entries, 0 to 21596\n",
      "Data columns (total 21 columns):\n",
      "id               21597 non-null int64\n",
      "date             21597 non-null object\n",
      "price            21597 non-null float64\n",
      "bedrooms         21597 non-null int64\n",
      "bathrooms        21597 non-null float64\n",
      "sqft_living      21597 non-null int64\n",
      "sqft_lot         21597 non-null int64\n",
      "floors           21597 non-null float64\n",
      "waterfront       19221 non-null float64\n",
      "view             21534 non-null float64\n",
      "condition        21597 non-null int64\n",
      "grade            21597 non-null int64\n",
      "sqft_above       21597 non-null int64\n",
      "sqft_basement    21597 non-null object\n",
      "yr_built         21597 non-null int64\n",
      "yr_renovated     17755 non-null float64\n",
      "zipcode          21597 non-null int64\n",
      "lat              21597 non-null float64\n",
      "long             21597 non-null float64\n",
      "sqft_living15    21597 non-null int64\n",
      "sqft_lot15       21597 non-null int64\n",
      "dtypes: float64(8), int64(11), object(2)\n",
      "memory usage: 3.5+ MB\n"
     ]
    }
   ],
   "source": [
    "df.info()"
   ]
  },
  {
   "cell_type": "code",
   "execution_count": 4,
   "metadata": {},
   "outputs": [
    {
     "data": {
      "text/plain": [
       "(21597, 21)"
      ]
     },
     "execution_count": 4,
     "metadata": {},
     "output_type": "execute_result"
    }
   ],
   "source": [
    "import numpy as np\n",
    "np.shape(df)"
   ]
  },
  {
   "cell_type": "markdown",
   "metadata": {},
   "source": [
    "<font color='green'>The dataset has over 21,000 rows and 21 columns...a lot to work with!</font>"
   ]
  },
  {
   "cell_type": "markdown",
   "metadata": {},
   "source": [
    "<font color='green'>Let's set the index to be equal to the id values (since there will be no predictive value in them as independent variables)</font>"
   ]
  },
  {
   "cell_type": "code",
   "execution_count": 5,
   "metadata": {},
   "outputs": [
    {
     "data": {
      "text/html": [
       "<div>\n",
       "<style scoped>\n",
       "    .dataframe tbody tr th:only-of-type {\n",
       "        vertical-align: middle;\n",
       "    }\n",
       "\n",
       "    .dataframe tbody tr th {\n",
       "        vertical-align: top;\n",
       "    }\n",
       "\n",
       "    .dataframe thead th {\n",
       "        text-align: right;\n",
       "    }\n",
       "</style>\n",
       "<table border=\"1\" class=\"dataframe\">\n",
       "  <thead>\n",
       "    <tr style=\"text-align: right;\">\n",
       "      <th></th>\n",
       "      <th>date</th>\n",
       "      <th>price</th>\n",
       "      <th>bedrooms</th>\n",
       "      <th>bathrooms</th>\n",
       "      <th>sqft_living</th>\n",
       "      <th>sqft_lot</th>\n",
       "      <th>floors</th>\n",
       "      <th>waterfront</th>\n",
       "      <th>view</th>\n",
       "      <th>condition</th>\n",
       "      <th>grade</th>\n",
       "      <th>sqft_above</th>\n",
       "      <th>sqft_basement</th>\n",
       "      <th>yr_built</th>\n",
       "      <th>yr_renovated</th>\n",
       "      <th>zipcode</th>\n",
       "      <th>lat</th>\n",
       "      <th>long</th>\n",
       "      <th>sqft_living15</th>\n",
       "      <th>sqft_lot15</th>\n",
       "    </tr>\n",
       "    <tr>\n",
       "      <th>id</th>\n",
       "      <th></th>\n",
       "      <th></th>\n",
       "      <th></th>\n",
       "      <th></th>\n",
       "      <th></th>\n",
       "      <th></th>\n",
       "      <th></th>\n",
       "      <th></th>\n",
       "      <th></th>\n",
       "      <th></th>\n",
       "      <th></th>\n",
       "      <th></th>\n",
       "      <th></th>\n",
       "      <th></th>\n",
       "      <th></th>\n",
       "      <th></th>\n",
       "      <th></th>\n",
       "      <th></th>\n",
       "      <th></th>\n",
       "      <th></th>\n",
       "    </tr>\n",
       "  </thead>\n",
       "  <tbody>\n",
       "    <tr>\n",
       "      <th>7129300520</th>\n",
       "      <td>10/13/2014</td>\n",
       "      <td>221900.0</td>\n",
       "      <td>3</td>\n",
       "      <td>1.00</td>\n",
       "      <td>1180</td>\n",
       "      <td>5650</td>\n",
       "      <td>1.0</td>\n",
       "      <td>NaN</td>\n",
       "      <td>0.0</td>\n",
       "      <td>3</td>\n",
       "      <td>7</td>\n",
       "      <td>1180</td>\n",
       "      <td>0.0</td>\n",
       "      <td>1955</td>\n",
       "      <td>0.0</td>\n",
       "      <td>98178</td>\n",
       "      <td>47.5112</td>\n",
       "      <td>-122.257</td>\n",
       "      <td>1340</td>\n",
       "      <td>5650</td>\n",
       "    </tr>\n",
       "    <tr>\n",
       "      <th>6414100192</th>\n",
       "      <td>12/9/2014</td>\n",
       "      <td>538000.0</td>\n",
       "      <td>3</td>\n",
       "      <td>2.25</td>\n",
       "      <td>2570</td>\n",
       "      <td>7242</td>\n",
       "      <td>2.0</td>\n",
       "      <td>0.0</td>\n",
       "      <td>0.0</td>\n",
       "      <td>3</td>\n",
       "      <td>7</td>\n",
       "      <td>2170</td>\n",
       "      <td>400.0</td>\n",
       "      <td>1951</td>\n",
       "      <td>1991.0</td>\n",
       "      <td>98125</td>\n",
       "      <td>47.7210</td>\n",
       "      <td>-122.319</td>\n",
       "      <td>1690</td>\n",
       "      <td>7639</td>\n",
       "    </tr>\n",
       "    <tr>\n",
       "      <th>5631500400</th>\n",
       "      <td>2/25/2015</td>\n",
       "      <td>180000.0</td>\n",
       "      <td>2</td>\n",
       "      <td>1.00</td>\n",
       "      <td>770</td>\n",
       "      <td>10000</td>\n",
       "      <td>1.0</td>\n",
       "      <td>0.0</td>\n",
       "      <td>0.0</td>\n",
       "      <td>3</td>\n",
       "      <td>6</td>\n",
       "      <td>770</td>\n",
       "      <td>0.0</td>\n",
       "      <td>1933</td>\n",
       "      <td>NaN</td>\n",
       "      <td>98028</td>\n",
       "      <td>47.7379</td>\n",
       "      <td>-122.233</td>\n",
       "      <td>2720</td>\n",
       "      <td>8062</td>\n",
       "    </tr>\n",
       "  </tbody>\n",
       "</table>\n",
       "</div>"
      ],
      "text/plain": [
       "                  date     price  bedrooms  bathrooms  sqft_living  sqft_lot  \\\n",
       "id                                                                             \n",
       "7129300520  10/13/2014  221900.0         3       1.00         1180      5650   \n",
       "6414100192   12/9/2014  538000.0         3       2.25         2570      7242   \n",
       "5631500400   2/25/2015  180000.0         2       1.00          770     10000   \n",
       "\n",
       "            floors  waterfront  view  condition  grade  sqft_above  \\\n",
       "id                                                                   \n",
       "7129300520     1.0         NaN   0.0          3      7        1180   \n",
       "6414100192     2.0         0.0   0.0          3      7        2170   \n",
       "5631500400     1.0         0.0   0.0          3      6         770   \n",
       "\n",
       "           sqft_basement  yr_built  yr_renovated  zipcode      lat     long  \\\n",
       "id                                                                            \n",
       "7129300520           0.0      1955           0.0    98178  47.5112 -122.257   \n",
       "6414100192         400.0      1951        1991.0    98125  47.7210 -122.319   \n",
       "5631500400           0.0      1933           NaN    98028  47.7379 -122.233   \n",
       "\n",
       "            sqft_living15  sqft_lot15  \n",
       "id                                     \n",
       "7129300520           1340        5650  \n",
       "6414100192           1690        7639  \n",
       "5631500400           2720        8062  "
      ]
     },
     "execution_count": 5,
     "metadata": {},
     "output_type": "execute_result"
    }
   ],
   "source": [
    "df.set_index('id',inplace=True)\n",
    "df.head(3)"
   ]
  },
  {
   "cell_type": "code",
   "execution_count": 6,
   "metadata": {},
   "outputs": [
    {
     "data": {
      "text/plain": [
       "array([[<matplotlib.axes._subplots.AxesSubplot object at 0x1155046d8>,\n",
       "        <matplotlib.axes._subplots.AxesSubplot object at 0x1155fb780>,\n",
       "        <matplotlib.axes._subplots.AxesSubplot object at 0x115625b00>,\n",
       "        <matplotlib.axes._subplots.AxesSubplot object at 0x1156570b8>],\n",
       "       [<matplotlib.axes._subplots.AxesSubplot object at 0x11567b630>,\n",
       "        <matplotlib.axes._subplots.AxesSubplot object at 0x1156a3ba8>,\n",
       "        <matplotlib.axes._subplots.AxesSubplot object at 0x1156d7160>,\n",
       "        <matplotlib.axes._subplots.AxesSubplot object at 0x115ad0710>],\n",
       "       [<matplotlib.axes._subplots.AxesSubplot object at 0x115ad0748>,\n",
       "        <matplotlib.axes._subplots.AxesSubplot object at 0x115b27208>,\n",
       "        <matplotlib.axes._subplots.AxesSubplot object at 0x115b4f780>,\n",
       "        <matplotlib.axes._subplots.AxesSubplot object at 0x115b77cf8>],\n",
       "       [<matplotlib.axes._subplots.AxesSubplot object at 0x115ba72b0>,\n",
       "        <matplotlib.axes._subplots.AxesSubplot object at 0x115bcf828>,\n",
       "        <matplotlib.axes._subplots.AxesSubplot object at 0x115bf8da0>,\n",
       "        <matplotlib.axes._subplots.AxesSubplot object at 0x115c27358>],\n",
       "       [<matplotlib.axes._subplots.AxesSubplot object at 0x115c4d8d0>,\n",
       "        <matplotlib.axes._subplots.AxesSubplot object at 0x115c76e48>,\n",
       "        <matplotlib.axes._subplots.AxesSubplot object at 0x115ca4400>,\n",
       "        <matplotlib.axes._subplots.AxesSubplot object at 0x115ccc978>]],\n",
       "      dtype=object)"
      ]
     },
     "execution_count": 6,
     "metadata": {},
     "output_type": "execute_result"
    }
   ],
   "source": [
    "df.hist(bins=20,figsize=(15,12))"
   ]
  },
  {
   "cell_type": "markdown",
   "metadata": {},
   "source": [
    "<font color='green'>Let's explore the \"date\" column.</font>"
   ]
  },
  {
   "cell_type": "code",
   "execution_count": 7,
   "metadata": {},
   "outputs": [
    {
     "data": {
      "text/plain": [
       "count         21597\n",
       "unique          372\n",
       "top       6/23/2014\n",
       "freq            142\n",
       "Name: date, dtype: object"
      ]
     },
     "execution_count": 7,
     "metadata": {},
     "output_type": "execute_result"
    }
   ],
   "source": [
    "df['date'].describe()"
   ]
  },
  {
   "cell_type": "markdown",
   "metadata": {},
   "source": [
    "<font color='green'>It is likely that we won't be using dates to predict home value. We won't be able to use dates in the past to predict anything about the future. Let's drop the variable.</font>"
   ]
  },
  {
   "cell_type": "code",
   "execution_count": 8,
   "metadata": {},
   "outputs": [],
   "source": [
    "df=df.drop('date',axis=1)"
   ]
  },
  {
   "cell_type": "markdown",
   "metadata": {},
   "source": [
    "<font color='green'>Let's explore the dataset to see if there are missing values.</font>"
   ]
  },
  {
   "cell_type": "code",
   "execution_count": 9,
   "metadata": {},
   "outputs": [
    {
     "data": {
      "text/plain": [
       "Index(['price', 'bedrooms', 'bathrooms', 'sqft_living', 'sqft_lot', 'floors',\n",
       "       'waterfront', 'view', 'condition', 'grade', 'sqft_above',\n",
       "       'sqft_basement', 'yr_built', 'yr_renovated', 'zipcode', 'lat', 'long',\n",
       "       'sqft_living15', 'sqft_lot15'],\n",
       "      dtype='object')"
      ]
     },
     "execution_count": 9,
     "metadata": {},
     "output_type": "execute_result"
    }
   ],
   "source": [
    "df.columns"
   ]
  },
  {
   "cell_type": "code",
   "execution_count": 10,
   "metadata": {},
   "outputs": [
    {
     "name": "stdout",
     "output_type": "stream",
     "text": [
      "waterfront\n",
      "view\n",
      "yr_renovated\n"
     ]
    }
   ],
   "source": [
    "for element in df.columns:\n",
    "    if df[element].isna().sum()>0:\n",
    "        print(element)"
   ]
  },
  {
   "cell_type": "code",
   "execution_count": 11,
   "metadata": {},
   "outputs": [
    {
     "data": {
      "text/plain": [
       "0.124"
      ]
     },
     "execution_count": 11,
     "metadata": {},
     "output_type": "execute_result"
    }
   ],
   "source": [
    "round((df['waterfront'].isna().sum())/df['waterfront'].count(),3)"
   ]
  },
  {
   "cell_type": "markdown",
   "metadata": {},
   "source": [
    "<font color='green'>12.4% of the \"waterfront\" data is missing, which we will address soon.</font>"
   ]
  },
  {
   "cell_type": "code",
   "execution_count": 12,
   "metadata": {},
   "outputs": [
    {
     "data": {
      "text/plain": [
       "0.003"
      ]
     },
     "execution_count": 12,
     "metadata": {},
     "output_type": "execute_result"
    }
   ],
   "source": [
    "round((df['view'].isna().sum())/df['view'].count(),3)"
   ]
  },
  {
   "cell_type": "markdown",
   "metadata": {},
   "source": [
    "<font color='green'>0.3% of the \"view\" data is missing, which we will address soon.</font>"
   ]
  },
  {
   "cell_type": "code",
   "execution_count": 13,
   "metadata": {},
   "outputs": [
    {
     "data": {
      "text/plain": [
       "0.216"
      ]
     },
     "execution_count": 13,
     "metadata": {},
     "output_type": "execute_result"
    }
   ],
   "source": [
    "round((df['yr_renovated'].isna().sum())/df['yr_renovated'].count(),3)"
   ]
  },
  {
   "cell_type": "markdown",
   "metadata": {},
   "source": [
    "<font color='green'>21.6% of the \"yr_renovated\" data is missing, which we will address soon.</font>"
   ]
  },
  {
   "cell_type": "markdown",
   "metadata": {},
   "source": [
    "<font color='green'>Let's take care of the missing values in the \"waterfront\" column.</font>"
   ]
  },
  {
   "cell_type": "code",
   "execution_count": 14,
   "metadata": {},
   "outputs": [],
   "source": [
    "import matplotlib.pyplot as plt\n",
    "%matplotlib inline"
   ]
  },
  {
   "cell_type": "code",
   "execution_count": 15,
   "metadata": {},
   "outputs": [
    {
     "data": {
      "text/plain": [
       "Text(0.5, 1.0, 'Waterfront Histogram')"
      ]
     },
     "execution_count": 15,
     "metadata": {},
     "output_type": "execute_result"
    },
    {
     "data": {
      "image/png": "[encoded data removed]",
      "text/plain": [
       "<Figure size 216x216 with 1 Axes>"
      ]
     },
     "metadata": {
      "needs_background": "light"
     },
     "output_type": "display_data"
    }
   ],
   "source": [
    "df['waterfront'].hist(figsize=(3,3))\n",
    "plt.xlabel('Value')\n",
    "plt.ylabel('Count')\n",
    "plt.title('Waterfront Histogram')"
   ]
  },
  {
   "cell_type": "markdown",
   "metadata": {},
   "source": [
    "<font color='green'>The overwhelming majority of values are 0, i.e., indicative that the property is not waterfront. Let's replace all blank values with 0, the mode.</font>"
   ]
  },
  {
   "cell_type": "code",
   "execution_count": 16,
   "metadata": {},
   "outputs": [],
   "source": [
    "df['waterfront'].fillna(0,inplace=True)"
   ]
  },
  {
   "cell_type": "code",
   "execution_count": 17,
   "metadata": {},
   "outputs": [
    {
     "data": {
      "text/plain": [
       "0"
      ]
     },
     "execution_count": 17,
     "metadata": {},
     "output_type": "execute_result"
    }
   ],
   "source": [
    "df['waterfront'].isna().sum()"
   ]
  },
  {
   "cell_type": "markdown",
   "metadata": {},
   "source": [
    "<font color='green'>Let's take care of the missing values in the \"view\" column.</font>"
   ]
  },
  {
   "cell_type": "code",
   "execution_count": 18,
   "metadata": {},
   "outputs": [
    {
     "data": {
      "text/plain": [
       "Text(0.5, 1.0, 'View Histogram')"
      ]
     },
     "execution_count": 18,
     "metadata": {},
     "output_type": "execute_result"
    },
    {
     "data": {
      "image/png": "[encoded data removed]",
      "text/plain": [
       "<Figure size 216x216 with 1 Axes>"
      ]
     },
     "metadata": {
      "needs_background": "light"
     },
     "output_type": "display_data"
    }
   ],
   "source": [
    "df['view'].hist(figsize=(3,3))\n",
    "plt.xlabel('Value')\n",
    "plt.ylabel('Count')\n",
    "plt.title('View Histogram')"
   ]
  },
  {
   "cell_type": "markdown",
   "metadata": {},
   "source": [
    "<font color='green'>Once again, the overwhelming majority of values are 0. Let's replace all blank values with 0, the mode.</font>"
   ]
  },
  {
   "cell_type": "code",
   "execution_count": 19,
   "metadata": {},
   "outputs": [],
   "source": [
    "df['view'].fillna(0,inplace=True)"
   ]
  },
  {
   "cell_type": "code",
   "execution_count": 20,
   "metadata": {},
   "outputs": [
    {
     "data": {
      "text/plain": [
       "0"
      ]
     },
     "execution_count": 20,
     "metadata": {},
     "output_type": "execute_result"
    }
   ],
   "source": [
    "df['view'].isna().sum()"
   ]
  },
  {
   "cell_type": "markdown",
   "metadata": {},
   "source": [
    "<font color='green'>Let's take care of the missing values in the \"yr_renovated\" column.</font>"
   ]
  },
  {
   "cell_type": "code",
   "execution_count": 21,
   "metadata": {},
   "outputs": [
    {
     "data": {
      "text/plain": [
       "3842"
      ]
     },
     "execution_count": 21,
     "metadata": {},
     "output_type": "execute_result"
    }
   ],
   "source": [
    "df['yr_renovated'].isna().sum()"
   ]
  },
  {
   "cell_type": "code",
   "execution_count": 22,
   "metadata": {},
   "outputs": [
    {
     "data": {
      "text/plain": [
       "count    17755.000000\n",
       "mean        83.636778\n",
       "std        399.946414\n",
       "min          0.000000\n",
       "25%          0.000000\n",
       "50%          0.000000\n",
       "75%          0.000000\n",
       "max       2015.000000\n",
       "Name: yr_renovated, dtype: float64"
      ]
     },
     "execution_count": 22,
     "metadata": {},
     "output_type": "execute_result"
    }
   ],
   "source": [
    "df['yr_renovated'].describe()"
   ]
  },
  {
   "cell_type": "code",
   "execution_count": 23,
   "metadata": {},
   "outputs": [
    {
     "data": {
      "text/plain": [
       "Text(0.5, 1.0, 'Yr_Renovated Histogram')"
      ]
     },
     "execution_count": 23,
     "metadata": {},
     "output_type": "execute_result"
    },
    {
     "data": {
      "image/png": "[encoded data removed]",
      "text/plain": [
       "<Figure size 216x216 with 1 Axes>"
      ]
     },
     "metadata": {
      "needs_background": "light"
     },
     "output_type": "display_data"
    }
   ],
   "source": [
    "df['yr_renovated'].hist(figsize=(3,3),bins=20)\n",
    "plt.xlabel('Value')\n",
    "plt.ylabel('Count')\n",
    "plt.title('Yr_Renovated Histogram')"
   ]
  },
  {
   "cell_type": "code",
   "execution_count": 24,
   "metadata": {
    "scrolled": true
   },
   "outputs": [
    {
     "data": {
      "text/plain": [
       "0.0       17011\n",
       "2014.0       73\n",
       "2003.0       31\n",
       "2013.0       31\n",
       "2007.0       30\n",
       "2000.0       29\n",
       "2005.0       29\n",
       "1990.0       22\n",
       "Name: yr_renovated, dtype: int64"
      ]
     },
     "execution_count": 24,
     "metadata": {},
     "output_type": "execute_result"
    }
   ],
   "source": [
    "df.yr_renovated.value_counts().head(8)"
   ]
  },
  {
   "cell_type": "markdown",
   "metadata": {},
   "source": [
    "<font color='green'>The majority of homes have not been renovated, so let's replace missing values with 0.</font>"
   ]
  },
  {
   "cell_type": "code",
   "execution_count": 25,
   "metadata": {},
   "outputs": [],
   "source": [
    "df['yr_renovated'].fillna(0,inplace=True)"
   ]
  },
  {
   "cell_type": "markdown",
   "metadata": {},
   "source": [
    "<font color='green'>Let's see if there are any null values, or if we took care of them all.</font>"
   ]
  },
  {
   "cell_type": "code",
   "execution_count": 26,
   "metadata": {},
   "outputs": [
    {
     "data": {
      "text/plain": [
       "price            0\n",
       "bedrooms         0\n",
       "bathrooms        0\n",
       "sqft_living      0\n",
       "sqft_lot         0\n",
       "floors           0\n",
       "waterfront       0\n",
       "view             0\n",
       "condition        0\n",
       "grade            0\n",
       "sqft_above       0\n",
       "sqft_basement    0\n",
       "yr_built         0\n",
       "yr_renovated     0\n",
       "zipcode          0\n",
       "lat              0\n",
       "long             0\n",
       "sqft_living15    0\n",
       "sqft_lot15       0\n",
       "dtype: int64"
      ]
     },
     "execution_count": 26,
     "metadata": {},
     "output_type": "execute_result"
    }
   ],
   "source": [
    "df.isna().sum()"
   ]
  },
  {
   "cell_type": "markdown",
   "metadata": {},
   "source": [
    "<font color='green'>Great, no missing values.</font>"
   ]
  },
  {
   "cell_type": "markdown",
   "metadata": {},
   "source": [
    "<font color='green'>We can now analyze the other columns further.</font>"
   ]
  },
  {
   "cell_type": "markdown",
   "metadata": {},
   "source": [
    "<font color='green'>Let's look at \"bedrooms\".</font>"
   ]
  },
  {
   "cell_type": "code",
   "execution_count": 27,
   "metadata": {},
   "outputs": [
    {
     "data": {
      "text/plain": [
       "count    21597.000000\n",
       "mean         3.373200\n",
       "std          0.926299\n",
       "min          1.000000\n",
       "25%          3.000000\n",
       "50%          3.000000\n",
       "75%          4.000000\n",
       "max         33.000000\n",
       "Name: bedrooms, dtype: float64"
      ]
     },
     "execution_count": 27,
     "metadata": {},
     "output_type": "execute_result"
    }
   ],
   "source": [
    "df['bedrooms'].describe()"
   ]
  },
  {
   "cell_type": "code",
   "execution_count": 28,
   "metadata": {},
   "outputs": [
    {
     "data": {
      "text/plain": [
       "3     9824\n",
       "4     6882\n",
       "2     2760\n",
       "5     1601\n",
       "6      272\n",
       "1      196\n",
       "7       38\n",
       "8       13\n",
       "9        6\n",
       "10       3\n",
       "11       1\n",
       "33       1\n",
       "Name: bedrooms, dtype: int64"
      ]
     },
     "execution_count": 28,
     "metadata": {},
     "output_type": "execute_result"
    }
   ],
   "source": [
    "df['bedrooms'].value_counts()"
   ]
  },
  {
   "cell_type": "markdown",
   "metadata": {},
   "source": [
    "<font color='green'>We can see that there's actually a house with 33(!) bedrooms. Let's look to see if there are a lot of houses with double-digit number of bedrooms.</font>"
   ]
  },
  {
   "cell_type": "code",
   "execution_count": 29,
   "metadata": {},
   "outputs": [
    {
     "data": {
      "text/html": [
       "<div>\n",
       "<style scoped>\n",
       "    .dataframe tbody tr th:only-of-type {\n",
       "        vertical-align: middle;\n",
       "    }\n",
       "\n",
       "    .dataframe tbody tr th {\n",
       "        vertical-align: top;\n",
       "    }\n",
       "\n",
       "    .dataframe thead th {\n",
       "        text-align: right;\n",
       "    }\n",
       "</style>\n",
       "<table border=\"1\" class=\"dataframe\">\n",
       "  <thead>\n",
       "    <tr style=\"text-align: right;\">\n",
       "      <th></th>\n",
       "      <th>price</th>\n",
       "      <th>bedrooms</th>\n",
       "      <th>bathrooms</th>\n",
       "      <th>sqft_living</th>\n",
       "      <th>sqft_lot</th>\n",
       "      <th>floors</th>\n",
       "      <th>waterfront</th>\n",
       "      <th>view</th>\n",
       "      <th>condition</th>\n",
       "      <th>grade</th>\n",
       "      <th>sqft_above</th>\n",
       "      <th>sqft_basement</th>\n",
       "      <th>yr_built</th>\n",
       "      <th>yr_renovated</th>\n",
       "      <th>zipcode</th>\n",
       "      <th>lat</th>\n",
       "      <th>long</th>\n",
       "      <th>sqft_living15</th>\n",
       "      <th>sqft_lot15</th>\n",
       "    </tr>\n",
       "    <tr>\n",
       "      <th>id</th>\n",
       "      <th></th>\n",
       "      <th></th>\n",
       "      <th></th>\n",
       "      <th></th>\n",
       "      <th></th>\n",
       "      <th></th>\n",
       "      <th></th>\n",
       "      <th></th>\n",
       "      <th></th>\n",
       "      <th></th>\n",
       "      <th></th>\n",
       "      <th></th>\n",
       "      <th></th>\n",
       "      <th></th>\n",
       "      <th></th>\n",
       "      <th></th>\n",
       "      <th></th>\n",
       "      <th></th>\n",
       "      <th></th>\n",
       "    </tr>\n",
       "  </thead>\n",
       "  <tbody>\n",
       "    <tr>\n",
       "      <th>1773100755</th>\n",
       "      <td>520000.0</td>\n",
       "      <td>11</td>\n",
       "      <td>3.00</td>\n",
       "      <td>3000</td>\n",
       "      <td>4960</td>\n",
       "      <td>2.0</td>\n",
       "      <td>0.0</td>\n",
       "      <td>0.0</td>\n",
       "      <td>3</td>\n",
       "      <td>7</td>\n",
       "      <td>2400</td>\n",
       "      <td>600.0</td>\n",
       "      <td>1918</td>\n",
       "      <td>1999.0</td>\n",
       "      <td>98106</td>\n",
       "      <td>47.5560</td>\n",
       "      <td>-122.363</td>\n",
       "      <td>1420</td>\n",
       "      <td>4960</td>\n",
       "    </tr>\n",
       "    <tr>\n",
       "      <th>627300145</th>\n",
       "      <td>1150000.0</td>\n",
       "      <td>10</td>\n",
       "      <td>5.25</td>\n",
       "      <td>4590</td>\n",
       "      <td>10920</td>\n",
       "      <td>1.0</td>\n",
       "      <td>0.0</td>\n",
       "      <td>2.0</td>\n",
       "      <td>3</td>\n",
       "      <td>9</td>\n",
       "      <td>2500</td>\n",
       "      <td>2090.0</td>\n",
       "      <td>2008</td>\n",
       "      <td>0.0</td>\n",
       "      <td>98004</td>\n",
       "      <td>47.5861</td>\n",
       "      <td>-122.113</td>\n",
       "      <td>2730</td>\n",
       "      <td>10400</td>\n",
       "    </tr>\n",
       "    <tr>\n",
       "      <th>5566100170</th>\n",
       "      <td>650000.0</td>\n",
       "      <td>10</td>\n",
       "      <td>2.00</td>\n",
       "      <td>3610</td>\n",
       "      <td>11914</td>\n",
       "      <td>2.0</td>\n",
       "      <td>0.0</td>\n",
       "      <td>0.0</td>\n",
       "      <td>4</td>\n",
       "      <td>7</td>\n",
       "      <td>3010</td>\n",
       "      <td>600.0</td>\n",
       "      <td>1958</td>\n",
       "      <td>0.0</td>\n",
       "      <td>98006</td>\n",
       "      <td>47.5705</td>\n",
       "      <td>-122.175</td>\n",
       "      <td>2040</td>\n",
       "      <td>11914</td>\n",
       "    </tr>\n",
       "    <tr>\n",
       "      <th>2402100895</th>\n",
       "      <td>640000.0</td>\n",
       "      <td>33</td>\n",
       "      <td>1.75</td>\n",
       "      <td>1620</td>\n",
       "      <td>6000</td>\n",
       "      <td>1.0</td>\n",
       "      <td>0.0</td>\n",
       "      <td>0.0</td>\n",
       "      <td>5</td>\n",
       "      <td>7</td>\n",
       "      <td>1040</td>\n",
       "      <td>580.0</td>\n",
       "      <td>1947</td>\n",
       "      <td>0.0</td>\n",
       "      <td>98103</td>\n",
       "      <td>47.6878</td>\n",
       "      <td>-122.331</td>\n",
       "      <td>1330</td>\n",
       "      <td>4700</td>\n",
       "    </tr>\n",
       "    <tr>\n",
       "      <th>8812401450</th>\n",
       "      <td>660000.0</td>\n",
       "      <td>10</td>\n",
       "      <td>3.00</td>\n",
       "      <td>2920</td>\n",
       "      <td>3745</td>\n",
       "      <td>2.0</td>\n",
       "      <td>0.0</td>\n",
       "      <td>0.0</td>\n",
       "      <td>4</td>\n",
       "      <td>7</td>\n",
       "      <td>1860</td>\n",
       "      <td>1060.0</td>\n",
       "      <td>1913</td>\n",
       "      <td>0.0</td>\n",
       "      <td>98105</td>\n",
       "      <td>47.6635</td>\n",
       "      <td>-122.320</td>\n",
       "      <td>1810</td>\n",
       "      <td>3745</td>\n",
       "    </tr>\n",
       "  </tbody>\n",
       "</table>\n",
       "</div>"
      ],
      "text/plain": [
       "                price  bedrooms  bathrooms  sqft_living  sqft_lot  floors  \\\n",
       "id                                                                          \n",
       "1773100755   520000.0        11       3.00         3000      4960     2.0   \n",
       "627300145   1150000.0        10       5.25         4590     10920     1.0   \n",
       "5566100170   650000.0        10       2.00         3610     11914     2.0   \n",
       "2402100895   640000.0        33       1.75         1620      6000     1.0   \n",
       "8812401450   660000.0        10       3.00         2920      3745     2.0   \n",
       "\n",
       "            waterfront  view  condition  grade  sqft_above sqft_basement  \\\n",
       "id                                                                         \n",
       "1773100755         0.0   0.0          3      7        2400         600.0   \n",
       "627300145          0.0   2.0          3      9        2500        2090.0   \n",
       "5566100170         0.0   0.0          4      7        3010         600.0   \n",
       "2402100895         0.0   0.0          5      7        1040         580.0   \n",
       "8812401450         0.0   0.0          4      7        1860        1060.0   \n",
       "\n",
       "            yr_built  yr_renovated  zipcode      lat     long  sqft_living15  \\\n",
       "id                                                                             \n",
       "1773100755      1918        1999.0    98106  47.5560 -122.363           1420   \n",
       "627300145       2008           0.0    98004  47.5861 -122.113           2730   \n",
       "5566100170      1958           0.0    98006  47.5705 -122.175           2040   \n",
       "2402100895      1947           0.0    98103  47.6878 -122.331           1330   \n",
       "8812401450      1913           0.0    98105  47.6635 -122.320           1810   \n",
       "\n",
       "            sqft_lot15  \n",
       "id                      \n",
       "1773100755        4960  \n",
       "627300145        10400  \n",
       "5566100170       11914  \n",
       "2402100895        4700  \n",
       "8812401450        3745  "
      ]
     },
     "execution_count": 29,
     "metadata": {},
     "output_type": "execute_result"
    }
   ],
   "source": [
    "df.loc[df['bedrooms']>9]"
   ]
  },
  {
   "cell_type": "code",
   "execution_count": 30,
   "metadata": {},
   "outputs": [
    {
     "data": {
      "text/plain": [
       "3     9824\n",
       "4     6882\n",
       "2     2760\n",
       "5     1601\n",
       "6      272\n",
       "1      196\n",
       "7       38\n",
       "8       13\n",
       "9        6\n",
       "10       3\n",
       "11       1\n",
       "33       1\n",
       "Name: bedrooms, dtype: int64"
      ]
     },
     "execution_count": 30,
     "metadata": {},
     "output_type": "execute_result"
    }
   ],
   "source": [
    "df['bedrooms'].value_counts()"
   ]
  },
  {
   "cell_type": "markdown",
   "metadata": {},
   "source": [
    "<font color='green'>The house with 33 bedrooms looks like an outlier that was likely mistyped. We could either set it equal to the next max bedrooms, we could assume that it was a typo and was intended to be a \"3\", or we can just drop the row entirely. All methods have their merits. We'll keep it in as 33 for now but drop it as an outlier in a further section. </font>"
   ]
  },
  {
   "cell_type": "markdown",
   "metadata": {},
   "source": [
    "<font color='green'>Let's analyze the \"bathrooms\" column.</font>"
   ]
  },
  {
   "cell_type": "code",
   "execution_count": 31,
   "metadata": {},
   "outputs": [
    {
     "data": {
      "text/plain": [
       "2.50    5377\n",
       "1.00    3851\n",
       "1.75    3048\n",
       "2.25    2047\n",
       "2.00    1930\n",
       "1.50    1445\n",
       "2.75    1185\n",
       "3.00     753\n",
       "3.50     731\n",
       "3.25     589\n",
       "3.75     155\n",
       "4.00     136\n",
       "4.50     100\n",
       "4.25      79\n",
       "0.75      71\n",
       "4.75      23\n",
       "5.00      21\n",
       "5.25      13\n",
       "5.50      10\n",
       "1.25       9\n",
       "6.00       6\n",
       "5.75       4\n",
       "0.50       4\n",
       "8.00       2\n",
       "6.25       2\n",
       "6.75       2\n",
       "6.50       2\n",
       "7.50       1\n",
       "7.75       1\n",
       "Name: bathrooms, dtype: int64"
      ]
     },
     "execution_count": 31,
     "metadata": {},
     "output_type": "execute_result"
    }
   ],
   "source": [
    "df['bathrooms'].value_counts()"
   ]
  },
  {
   "cell_type": "markdown",
   "metadata": {},
   "source": [
    "<font color='green'>While half bathrooms exist, it is strange that we are seeing quarter and three-quarter bathrooms. Let's fix that by rounding to the nearest half bathroom. </font>"
   ]
  },
  {
   "cell_type": "code",
   "execution_count": 32,
   "metadata": {},
   "outputs": [],
   "source": [
    "df['bathrooms']=df['bathrooms'].map(lambda x: round(x*2)/2)"
   ]
  },
  {
   "cell_type": "code",
   "execution_count": 33,
   "metadata": {},
   "outputs": [
    {
     "data": {
      "text/plain": [
       "2.0    7025\n",
       "2.5    5377\n",
       "1.0    3931\n",
       "3.0    2527\n",
       "1.5    1445\n",
       "3.5     731\n",
       "4.0     370\n",
       "4.5     100\n",
       "5.0      57\n",
       "6.0      12\n",
       "5.5      10\n",
       "0.5       4\n",
       "8.0       3\n",
       "6.5       2\n",
       "7.0       2\n",
       "7.5       1\n",
       "Name: bathrooms, dtype: int64"
      ]
     },
     "execution_count": 33,
     "metadata": {},
     "output_type": "execute_result"
    }
   ],
   "source": [
    "df['bathrooms'].value_counts()"
   ]
  },
  {
   "cell_type": "markdown",
   "metadata": {},
   "source": [
    "<font color='green'>Let's drop \"latitude\" and \"longitude\". We'll keep in zipcode to include location in the model.</font>"
   ]
  },
  {
   "cell_type": "code",
   "execution_count": 34,
   "metadata": {},
   "outputs": [],
   "source": [
    "df=df.drop('lat',axis=1)\n",
    "df=df.drop('long',axis=1)"
   ]
  },
  {
   "cell_type": "markdown",
   "metadata": {},
   "source": [
    "<font color='green'>Let's explore \"zipcode\".</font>"
   ]
  },
  {
   "cell_type": "code",
   "execution_count": 35,
   "metadata": {},
   "outputs": [
    {
     "data": {
      "text/plain": [
       "65"
      ]
     },
     "execution_count": 35,
     "metadata": {},
     "output_type": "execute_result"
    }
   ],
   "source": [
    "df.zipcode.value_counts().nunique()"
   ]
  },
  {
   "cell_type": "code",
   "execution_count": 36,
   "metadata": {},
   "outputs": [
    {
     "data": {
      "text/plain": [
       "332.26153846153846"
      ]
     },
     "execution_count": 36,
     "metadata": {},
     "output_type": "execute_result"
    }
   ],
   "source": [
    "df.zipcode.count()/df.zipcode.value_counts().nunique()"
   ]
  },
  {
   "cell_type": "markdown",
   "metadata": {},
   "source": [
    "<font color='green'>Our model might get clunky if we use 65 zipcodes. Note, however, that there is an average of 332 values per zipcode, which should be sufficient for helpful predictions, if we want to use all of these variables. </font>"
   ]
  },
  {
   "cell_type": "markdown",
   "metadata": {},
   "source": [
    "<font color='green'>Let's explore \"floors\".</font>"
   ]
  },
  {
   "cell_type": "code",
   "execution_count": 37,
   "metadata": {},
   "outputs": [
    {
     "data": {
      "text/plain": [
       "1.0    10673\n",
       "2.0     8235\n",
       "1.5     1910\n",
       "3.0      611\n",
       "2.5      161\n",
       "3.5        7\n",
       "Name: floors, dtype: int64"
      ]
     },
     "execution_count": 37,
     "metadata": {},
     "output_type": "execute_result"
    }
   ],
   "source": [
    "df['floors'].value_counts()"
   ]
  },
  {
   "cell_type": "markdown",
   "metadata": {},
   "source": [
    "<font color='green'>This looks completely normal. We can view this in a pie chart as well.</font>"
   ]
  },
  {
   "cell_type": "code",
   "execution_count": 38,
   "metadata": {
    "scrolled": true
   },
   "outputs": [
    {
     "data": {
      "image/png": "[encoded data removed]",
      "text/plain": [
       "<Figure size 504x504 with 1 Axes>"
      ]
     },
     "metadata": {},
     "output_type": "display_data"
    }
   ],
   "source": [
    "import seaborn as sns\n",
    "labels=df['floors'].value_counts().index\n",
    "sizes=df['floors'].value_counts().values\n",
    "plt.figure(figsize=(7,7))\n",
    "plt.pie(sizes,labels=labels,autopct='%1.0f%%')\n",
    "plt.title('Breakdown of Number of Floors')\n",
    "plt.show()"
   ]
  },
  {
   "cell_type": "markdown",
   "metadata": {},
   "source": [
    "<font color='green'>It's slightly cluttered, but we can easily see that the majority of homes have either 1 or 2 floors.</font>"
   ]
  },
  {
   "cell_type": "markdown",
   "metadata": {},
   "source": [
    "<font color='green'>Let's explore \"condition\".</font>"
   ]
  },
  {
   "cell_type": "code",
   "execution_count": 39,
   "metadata": {},
   "outputs": [
    {
     "data": {
      "text/plain": [
       "3    14020\n",
       "4     5677\n",
       "5     1701\n",
       "2      170\n",
       "1       29\n",
       "Name: condition, dtype: int64"
      ]
     },
     "execution_count": 39,
     "metadata": {},
     "output_type": "execute_result"
    }
   ],
   "source": [
    "df.condition.value_counts()"
   ]
  },
  {
   "cell_type": "markdown",
   "metadata": {},
   "source": [
    "<font color='green'>This looks completely normal.</font>"
   ]
  },
  {
   "cell_type": "markdown",
   "metadata": {},
   "source": [
    "<font color='green'>Let's explore \"grade\".</font>"
   ]
  },
  {
   "cell_type": "code",
   "execution_count": 40,
   "metadata": {},
   "outputs": [
    {
     "data": {
      "text/plain": [
       "7     8974\n",
       "8     6065\n",
       "9     2615\n",
       "6     2038\n",
       "10    1134\n",
       "11     399\n",
       "5      242\n",
       "12      89\n",
       "4       27\n",
       "13      13\n",
       "3        1\n",
       "Name: grade, dtype: int64"
      ]
     },
     "execution_count": 40,
     "metadata": {},
     "output_type": "execute_result"
    }
   ],
   "source": [
    "df['grade'].value_counts()"
   ]
  },
  {
   "cell_type": "markdown",
   "metadata": {},
   "source": [
    "<font color='green'>Let's explore \"yr_built\".</font>"
   ]
  },
  {
   "cell_type": "code",
   "execution_count": 41,
   "metadata": {},
   "outputs": [
    {
     "data": {
      "text/plain": [
       "99"
      ]
     },
     "execution_count": 41,
     "metadata": {},
     "output_type": "execute_result"
    }
   ],
   "source": [
    "df['yr_built'].value_counts().nunique()"
   ]
  },
  {
   "cell_type": "code",
   "execution_count": 42,
   "metadata": {},
   "outputs": [],
   "source": [
    "df=df.drop('yr_built',axis=1)"
   ]
  },
  {
   "cell_type": "markdown",
   "metadata": {},
   "source": [
    "<font color='green'>Let's explore \"yr_renovated\".</font>"
   ]
  },
  {
   "cell_type": "code",
   "execution_count": 43,
   "metadata": {},
   "outputs": [
    {
     "data": {
      "text/plain": [
       "0.0       20853\n",
       "2014.0       73\n",
       "2003.0       31\n",
       "2013.0       31\n",
       "2007.0       30\n",
       "2000.0       29\n",
       "2005.0       29\n",
       "1990.0       22\n",
       "2004.0       22\n",
       "2009.0       21\n",
       "1989.0       20\n",
       "2006.0       20\n",
       "2002.0       17\n",
       "1991.0       16\n",
       "1998.0       16\n",
       "1984.0       16\n",
       "1999.0       15\n",
       "2008.0       15\n",
       "2010.0       15\n",
       "2001.0       15\n",
       "1983.0       15\n",
       "2015.0       14\n",
       "1985.0       14\n",
       "1986.0       14\n",
       "1987.0       14\n",
       "1994.0       14\n",
       "1992.0       13\n",
       "1993.0       12\n",
       "1997.0       12\n",
       "1995.0       12\n",
       "          ...  \n",
       "1975.0        5\n",
       "1964.0        5\n",
       "1969.0        4\n",
       "1963.0        4\n",
       "1973.0        4\n",
       "1981.0        4\n",
       "1965.0        4\n",
       "1978.0        3\n",
       "1960.0        3\n",
       "1958.0        3\n",
       "1956.0        3\n",
       "1955.0        3\n",
       "1945.0        3\n",
       "1972.0        3\n",
       "1967.0        2\n",
       "1957.0        2\n",
       "1940.0        2\n",
       "1974.0        2\n",
       "1962.0        2\n",
       "1953.0        1\n",
       "1950.0        1\n",
       "1934.0        1\n",
       "1944.0        1\n",
       "1976.0        1\n",
       "1948.0        1\n",
       "1946.0        1\n",
       "1959.0        1\n",
       "1971.0        1\n",
       "1951.0        1\n",
       "1954.0        1\n",
       "Name: yr_renovated, Length: 70, dtype: int64"
      ]
     },
     "execution_count": 43,
     "metadata": {},
     "output_type": "execute_result"
    }
   ],
   "source": [
    "df['yr_renovated'].value_counts()"
   ]
  },
  {
   "cell_type": "markdown",
   "metadata": {},
   "source": [
    "<font color='green'>There are 70 different values for year renovated.</font>"
   ]
  },
  {
   "cell_type": "code",
   "execution_count": 44,
   "metadata": {},
   "outputs": [],
   "source": [
    "df=df.drop('yr_renovated',axis=1)"
   ]
  },
  {
   "cell_type": "markdown",
   "metadata": {},
   "source": [
    "<font color='green'>Let's look at square footage columns.</font>"
   ]
  },
  {
   "cell_type": "code",
   "execution_count": 45,
   "metadata": {},
   "outputs": [
    {
     "data": {
      "text/plain": [
       "Text(0.5, 1.0, 'Sqft_Living Histogram')"
      ]
     },
     "execution_count": 45,
     "metadata": {},
     "output_type": "execute_result"
    },
    {
     "data": {
      "image/png": "[encoded data removed]",
      "text/plain": [
       "<Figure size 432x432 with 1 Axes>"
      ]
     },
     "metadata": {
      "needs_background": "light"
     },
     "output_type": "display_data"
    }
   ],
   "source": [
    "df['sqft_living'].hist(figsize=(6,6),bins=20)\n",
    "plt.xlabel('Value')\n",
    "plt.ylabel('Count')\n",
    "plt.title('Sqft_Living Histogram')"
   ]
  },
  {
   "cell_type": "code",
   "execution_count": 46,
   "metadata": {},
   "outputs": [
    {
     "data": {
      "text/plain": [
       "Text(0.5, 1.0, 'Sqft_Lot Histogram')"
      ]
     },
     "execution_count": 46,
     "metadata": {},
     "output_type": "execute_result"
    },
    {
     "data": {
      "image/png": "[encoded data removed]",
      "text/plain": [
       "<Figure size 432x432 with 1 Axes>"
      ]
     },
     "metadata": {
      "needs_background": "light"
     },
     "output_type": "display_data"
    }
   ],
   "source": [
    "df['sqft_lot'].hist(figsize=(6,6),bins=20)\n",
    "plt.xlabel('Value')\n",
    "plt.ylabel('Count')\n",
    "plt.title('Sqft_Lot Histogram')"
   ]
  },
  {
   "cell_type": "code",
   "execution_count": 47,
   "metadata": {},
   "outputs": [],
   "source": [
    "df_sqft=df[['sqft_living','sqft_lot','sqft_above','sqft_basement','sqft_living15','sqft_lot15']]"
   ]
  },
  {
   "cell_type": "code",
   "execution_count": 48,
   "metadata": {},
   "outputs": [
    {
     "data": {
      "text/html": [
       "<div>\n",
       "<style scoped>\n",
       "    .dataframe tbody tr th:only-of-type {\n",
       "        vertical-align: middle;\n",
       "    }\n",
       "\n",
       "    .dataframe tbody tr th {\n",
       "        vertical-align: top;\n",
       "    }\n",
       "\n",
       "    .dataframe thead th {\n",
       "        text-align: right;\n",
       "    }\n",
       "</style>\n",
       "<table border=\"1\" class=\"dataframe\">\n",
       "  <thead>\n",
       "    <tr style=\"text-align: right;\">\n",
       "      <th></th>\n",
       "      <th>sqft_living</th>\n",
       "      <th>sqft_lot</th>\n",
       "      <th>sqft_above</th>\n",
       "      <th>sqft_basement</th>\n",
       "      <th>sqft_living15</th>\n",
       "      <th>sqft_lot15</th>\n",
       "    </tr>\n",
       "    <tr>\n",
       "      <th>id</th>\n",
       "      <th></th>\n",
       "      <th></th>\n",
       "      <th></th>\n",
       "      <th></th>\n",
       "      <th></th>\n",
       "      <th></th>\n",
       "    </tr>\n",
       "  </thead>\n",
       "  <tbody>\n",
       "    <tr>\n",
       "      <th>7129300520</th>\n",
       "      <td>1180</td>\n",
       "      <td>5650</td>\n",
       "      <td>1180</td>\n",
       "      <td>0.0</td>\n",
       "      <td>1340</td>\n",
       "      <td>5650</td>\n",
       "    </tr>\n",
       "    <tr>\n",
       "      <th>6414100192</th>\n",
       "      <td>2570</td>\n",
       "      <td>7242</td>\n",
       "      <td>2170</td>\n",
       "      <td>400.0</td>\n",
       "      <td>1690</td>\n",
       "      <td>7639</td>\n",
       "    </tr>\n",
       "    <tr>\n",
       "      <th>5631500400</th>\n",
       "      <td>770</td>\n",
       "      <td>10000</td>\n",
       "      <td>770</td>\n",
       "      <td>0.0</td>\n",
       "      <td>2720</td>\n",
       "      <td>8062</td>\n",
       "    </tr>\n",
       "  </tbody>\n",
       "</table>\n",
       "</div>"
      ],
      "text/plain": [
       "            sqft_living  sqft_lot  sqft_above sqft_basement  sqft_living15  \\\n",
       "id                                                                           \n",
       "7129300520         1180      5650        1180           0.0           1340   \n",
       "6414100192         2570      7242        2170         400.0           1690   \n",
       "5631500400          770     10000         770           0.0           2720   \n",
       "\n",
       "            sqft_lot15  \n",
       "id                      \n",
       "7129300520        5650  \n",
       "6414100192        7639  \n",
       "5631500400        8062  "
      ]
     },
     "execution_count": 48,
     "metadata": {},
     "output_type": "execute_result"
    }
   ],
   "source": [
    "df_sqft.head(3)"
   ]
  },
  {
   "cell_type": "markdown",
   "metadata": {},
   "source": [
    "<font color='green'>It looks as though sqft_living = sqft_above + sqft_basement. Let's confirm this, and if so we'll remove sqft_living (because the information is fully captured in the other variables, and to avoid multicollinearity).</font>"
   ]
  },
  {
   "cell_type": "code",
   "execution_count": 49,
   "metadata": {},
   "outputs": [
    {
     "data": {
      "text/plain": [
       "0.0      12826\n",
       "?          454\n",
       "600.0      217\n",
       "Name: sqft_basement, dtype: int64"
      ]
     },
     "execution_count": 49,
     "metadata": {},
     "output_type": "execute_result"
    }
   ],
   "source": [
    "df_sqft['sqft_basement'].value_counts().head(3)"
   ]
  },
  {
   "cell_type": "code",
   "execution_count": 50,
   "metadata": {},
   "outputs": [],
   "source": [
    "df['sqft_basement']=df['sqft_living']-df['sqft_above']"
   ]
  },
  {
   "cell_type": "markdown",
   "metadata": {},
   "source": [
    "<font color='green'>Confirm that there are no more ?'s on \"sqft_basement\".</font>"
   ]
  },
  {
   "cell_type": "code",
   "execution_count": 51,
   "metadata": {},
   "outputs": [
    {
     "name": "stderr",
     "output_type": "stream",
     "text": [
      "/Users/evanokin/anaconda3/lib/python3.7/site-packages/pandas/core/ops.py:1649: FutureWarning: elementwise comparison failed; returning scalar instead, but in the future will perform elementwise comparison\n",
      "  result = method(y)\n"
     ]
    },
    {
     "data": {
      "text/html": [
       "<div>\n",
       "<style scoped>\n",
       "    .dataframe tbody tr th:only-of-type {\n",
       "        vertical-align: middle;\n",
       "    }\n",
       "\n",
       "    .dataframe tbody tr th {\n",
       "        vertical-align: top;\n",
       "    }\n",
       "\n",
       "    .dataframe thead th {\n",
       "        text-align: right;\n",
       "    }\n",
       "</style>\n",
       "<table border=\"1\" class=\"dataframe\">\n",
       "  <thead>\n",
       "    <tr style=\"text-align: right;\">\n",
       "      <th></th>\n",
       "      <th>price</th>\n",
       "      <th>bedrooms</th>\n",
       "      <th>bathrooms</th>\n",
       "      <th>sqft_living</th>\n",
       "      <th>sqft_lot</th>\n",
       "      <th>floors</th>\n",
       "      <th>waterfront</th>\n",
       "      <th>view</th>\n",
       "      <th>condition</th>\n",
       "      <th>grade</th>\n",
       "      <th>sqft_above</th>\n",
       "      <th>sqft_basement</th>\n",
       "      <th>zipcode</th>\n",
       "      <th>sqft_living15</th>\n",
       "      <th>sqft_lot15</th>\n",
       "    </tr>\n",
       "    <tr>\n",
       "      <th>id</th>\n",
       "      <th></th>\n",
       "      <th></th>\n",
       "      <th></th>\n",
       "      <th></th>\n",
       "      <th></th>\n",
       "      <th></th>\n",
       "      <th></th>\n",
       "      <th></th>\n",
       "      <th></th>\n",
       "      <th></th>\n",
       "      <th></th>\n",
       "      <th></th>\n",
       "      <th></th>\n",
       "      <th></th>\n",
       "      <th></th>\n",
       "    </tr>\n",
       "  </thead>\n",
       "  <tbody>\n",
       "  </tbody>\n",
       "</table>\n",
       "</div>"
      ],
      "text/plain": [
       "Empty DataFrame\n",
       "Columns: [price, bedrooms, bathrooms, sqft_living, sqft_lot, floors, waterfront, view, condition, grade, sqft_above, sqft_basement, zipcode, sqft_living15, sqft_lot15]\n",
       "Index: []"
      ]
     },
     "execution_count": 51,
     "metadata": {},
     "output_type": "execute_result"
    }
   ],
   "source": [
    "df.loc[df['sqft_basement']=='?']"
   ]
  },
  {
   "cell_type": "code",
   "execution_count": 52,
   "metadata": {},
   "outputs": [],
   "source": [
    "df=df.drop('sqft_living',axis=1)"
   ]
  },
  {
   "cell_type": "markdown",
   "metadata": {},
   "source": [
    "<font color='green'>The variable \"sqft_lot15\" is the square footage of the land lots of the nearest 15 neighbors. This is likely highly correlated with the \"sqft_lot\" variable. Let's verify and if so, delete the column for the land lots of the nearest 15 neighbors.</font>"
   ]
  },
  {
   "cell_type": "code",
   "execution_count": 53,
   "metadata": {},
   "outputs": [
    {
     "name": "stdout",
     "output_type": "stream",
     "text": [
      "The correlation coefficient between the variables \"sqft_lot\" and \"sqft_lot15\" is 0.72%\n"
     ]
    }
   ],
   "source": [
    "print('The correlation coefficient between the variables \"sqft_lot\" and \"sqft_lot15\" is '\n",
    "      + str(round(np.corrcoef(df['sqft_lot'],df['sqft_lot15'])[0,1],2))+'%')\n",
    "if np.corrcoef(df['sqft_lot'],df['sqft_lot15'])[0,1]>0.50:\n",
    "    df=df.drop('sqft_lot15',axis=1)"
   ]
  },
  {
   "cell_type": "code",
   "execution_count": 54,
   "metadata": {},
   "outputs": [
    {
     "data": {
      "text/html": [
       "<div>\n",
       "<style scoped>\n",
       "    .dataframe tbody tr th:only-of-type {\n",
       "        vertical-align: middle;\n",
       "    }\n",
       "\n",
       "    .dataframe tbody tr th {\n",
       "        vertical-align: top;\n",
       "    }\n",
       "\n",
       "    .dataframe thead th {\n",
       "        text-align: right;\n",
       "    }\n",
       "</style>\n",
       "<table border=\"1\" class=\"dataframe\">\n",
       "  <thead>\n",
       "    <tr style=\"text-align: right;\">\n",
       "      <th></th>\n",
       "      <th>price</th>\n",
       "      <th>bedrooms</th>\n",
       "      <th>bathrooms</th>\n",
       "      <th>sqft_lot</th>\n",
       "      <th>floors</th>\n",
       "      <th>waterfront</th>\n",
       "      <th>view</th>\n",
       "      <th>condition</th>\n",
       "      <th>grade</th>\n",
       "      <th>sqft_above</th>\n",
       "      <th>sqft_basement</th>\n",
       "      <th>zipcode</th>\n",
       "      <th>sqft_living15</th>\n",
       "    </tr>\n",
       "  </thead>\n",
       "  <tbody>\n",
       "    <tr>\n",
       "      <th>price</th>\n",
       "      <td>1.000000</td>\n",
       "      <td>0.308787</td>\n",
       "      <td>0.516635</td>\n",
       "      <td>0.089876</td>\n",
       "      <td>0.256804</td>\n",
       "      <td>0.264306</td>\n",
       "      <td>0.393497</td>\n",
       "      <td>0.036056</td>\n",
       "      <td>0.667951</td>\n",
       "      <td>0.605368</td>\n",
       "      <td>0.323799</td>\n",
       "      <td>-0.053402</td>\n",
       "      <td>0.585241</td>\n",
       "    </tr>\n",
       "    <tr>\n",
       "      <th>bedrooms</th>\n",
       "      <td>0.308787</td>\n",
       "      <td>1.000000</td>\n",
       "      <td>0.516845</td>\n",
       "      <td>0.032471</td>\n",
       "      <td>0.177944</td>\n",
       "      <td>-0.002127</td>\n",
       "      <td>0.078354</td>\n",
       "      <td>0.026496</td>\n",
       "      <td>0.356563</td>\n",
       "      <td>0.479386</td>\n",
       "      <td>0.302808</td>\n",
       "      <td>-0.154092</td>\n",
       "      <td>0.393406</td>\n",
       "    </tr>\n",
       "    <tr>\n",
       "      <th>bathrooms</th>\n",
       "      <td>0.516635</td>\n",
       "      <td>0.516845</td>\n",
       "      <td>1.000000</td>\n",
       "      <td>0.088745</td>\n",
       "      <td>0.463986</td>\n",
       "      <td>0.064885</td>\n",
       "      <td>0.188103</td>\n",
       "      <td>-0.110984</td>\n",
       "      <td>0.648023</td>\n",
       "      <td>0.671168</td>\n",
       "      <td>0.295020</td>\n",
       "      <td>-0.200419</td>\n",
       "      <td>0.561429</td>\n",
       "    </tr>\n",
       "    <tr>\n",
       "      <th>sqft_lot</th>\n",
       "      <td>0.089876</td>\n",
       "      <td>0.032471</td>\n",
       "      <td>0.088745</td>\n",
       "      <td>1.000000</td>\n",
       "      <td>-0.004814</td>\n",
       "      <td>0.021459</td>\n",
       "      <td>0.075054</td>\n",
       "      <td>-0.008830</td>\n",
       "      <td>0.114731</td>\n",
       "      <td>0.184139</td>\n",
       "      <td>0.015418</td>\n",
       "      <td>-0.129586</td>\n",
       "      <td>0.144763</td>\n",
       "    </tr>\n",
       "    <tr>\n",
       "      <th>floors</th>\n",
       "      <td>0.256804</td>\n",
       "      <td>0.177944</td>\n",
       "      <td>0.463986</td>\n",
       "      <td>-0.004814</td>\n",
       "      <td>1.000000</td>\n",
       "      <td>0.020797</td>\n",
       "      <td>0.028414</td>\n",
       "      <td>-0.264075</td>\n",
       "      <td>0.458794</td>\n",
       "      <td>0.523989</td>\n",
       "      <td>-0.245715</td>\n",
       "      <td>-0.059541</td>\n",
       "      <td>0.280102</td>\n",
       "    </tr>\n",
       "    <tr>\n",
       "      <th>waterfront</th>\n",
       "      <td>0.264306</td>\n",
       "      <td>-0.002127</td>\n",
       "      <td>0.064885</td>\n",
       "      <td>0.021459</td>\n",
       "      <td>0.020797</td>\n",
       "      <td>1.000000</td>\n",
       "      <td>0.380543</td>\n",
       "      <td>0.016648</td>\n",
       "      <td>0.082818</td>\n",
       "      <td>0.071778</td>\n",
       "      <td>0.082800</td>\n",
       "      <td>0.028923</td>\n",
       "      <td>0.083823</td>\n",
       "    </tr>\n",
       "    <tr>\n",
       "      <th>view</th>\n",
       "      <td>0.393497</td>\n",
       "      <td>0.078354</td>\n",
       "      <td>0.188103</td>\n",
       "      <td>0.075054</td>\n",
       "      <td>0.028414</td>\n",
       "      <td>0.380543</td>\n",
       "      <td>1.000000</td>\n",
       "      <td>0.045622</td>\n",
       "      <td>0.249082</td>\n",
       "      <td>0.166017</td>\n",
       "      <td>0.273845</td>\n",
       "      <td>0.085059</td>\n",
       "      <td>0.278928</td>\n",
       "    </tr>\n",
       "    <tr>\n",
       "      <th>condition</th>\n",
       "      <td>0.036056</td>\n",
       "      <td>0.026496</td>\n",
       "      <td>-0.110984</td>\n",
       "      <td>-0.008830</td>\n",
       "      <td>-0.264075</td>\n",
       "      <td>0.016648</td>\n",
       "      <td>0.045622</td>\n",
       "      <td>1.000000</td>\n",
       "      <td>-0.146896</td>\n",
       "      <td>-0.158904</td>\n",
       "      <td>0.173849</td>\n",
       "      <td>0.002888</td>\n",
       "      <td>-0.093072</td>\n",
       "    </tr>\n",
       "    <tr>\n",
       "      <th>grade</th>\n",
       "      <td>0.667951</td>\n",
       "      <td>0.356563</td>\n",
       "      <td>0.648023</td>\n",
       "      <td>0.114731</td>\n",
       "      <td>0.458794</td>\n",
       "      <td>0.082818</td>\n",
       "      <td>0.249082</td>\n",
       "      <td>-0.146896</td>\n",
       "      <td>1.000000</td>\n",
       "      <td>0.756073</td>\n",
       "      <td>0.168220</td>\n",
       "      <td>-0.185771</td>\n",
       "      <td>0.713867</td>\n",
       "    </tr>\n",
       "    <tr>\n",
       "      <th>sqft_above</th>\n",
       "      <td>0.605368</td>\n",
       "      <td>0.479386</td>\n",
       "      <td>0.671168</td>\n",
       "      <td>0.184139</td>\n",
       "      <td>0.523989</td>\n",
       "      <td>0.071778</td>\n",
       "      <td>0.166017</td>\n",
       "      <td>-0.158904</td>\n",
       "      <td>0.756073</td>\n",
       "      <td>1.000000</td>\n",
       "      <td>-0.052156</td>\n",
       "      <td>-0.261570</td>\n",
       "      <td>0.731767</td>\n",
       "    </tr>\n",
       "    <tr>\n",
       "      <th>sqft_basement</th>\n",
       "      <td>0.323799</td>\n",
       "      <td>0.302808</td>\n",
       "      <td>0.295020</td>\n",
       "      <td>0.015418</td>\n",
       "      <td>-0.245715</td>\n",
       "      <td>0.082800</td>\n",
       "      <td>0.273845</td>\n",
       "      <td>0.173849</td>\n",
       "      <td>0.168220</td>\n",
       "      <td>-0.052156</td>\n",
       "      <td>1.000000</td>\n",
       "      <td>0.074725</td>\n",
       "      <td>0.200443</td>\n",
       "    </tr>\n",
       "    <tr>\n",
       "      <th>zipcode</th>\n",
       "      <td>-0.053402</td>\n",
       "      <td>-0.154092</td>\n",
       "      <td>-0.200419</td>\n",
       "      <td>-0.129586</td>\n",
       "      <td>-0.059541</td>\n",
       "      <td>0.028923</td>\n",
       "      <td>0.085059</td>\n",
       "      <td>0.002888</td>\n",
       "      <td>-0.185771</td>\n",
       "      <td>-0.261570</td>\n",
       "      <td>0.074725</td>\n",
       "      <td>1.000000</td>\n",
       "      <td>-0.279299</td>\n",
       "    </tr>\n",
       "    <tr>\n",
       "      <th>sqft_living15</th>\n",
       "      <td>0.585241</td>\n",
       "      <td>0.393406</td>\n",
       "      <td>0.561429</td>\n",
       "      <td>0.144763</td>\n",
       "      <td>0.280102</td>\n",
       "      <td>0.083823</td>\n",
       "      <td>0.278928</td>\n",
       "      <td>-0.093072</td>\n",
       "      <td>0.713867</td>\n",
       "      <td>0.731767</td>\n",
       "      <td>0.200443</td>\n",
       "      <td>-0.279299</td>\n",
       "      <td>1.000000</td>\n",
       "    </tr>\n",
       "  </tbody>\n",
       "</table>\n",
       "</div>"
      ],
      "text/plain": [
       "                  price  bedrooms  bathrooms  sqft_lot    floors  waterfront  \\\n",
       "price          1.000000  0.308787   0.516635  0.089876  0.256804    0.264306   \n",
       "bedrooms       0.308787  1.000000   0.516845  0.032471  0.177944   -0.002127   \n",
       "bathrooms      0.516635  0.516845   1.000000  0.088745  0.463986    0.064885   \n",
       "sqft_lot       0.089876  0.032471   0.088745  1.000000 -0.004814    0.021459   \n",
       "floors         0.256804  0.177944   0.463986 -0.004814  1.000000    0.020797   \n",
       "waterfront     0.264306 -0.002127   0.064885  0.021459  0.020797    1.000000   \n",
       "view           0.393497  0.078354   0.188103  0.075054  0.028414    0.380543   \n",
       "condition      0.036056  0.026496  -0.110984 -0.008830 -0.264075    0.016648   \n",
       "grade          0.667951  0.356563   0.648023  0.114731  0.458794    0.082818   \n",
       "sqft_above     0.605368  0.479386   0.671168  0.184139  0.523989    0.071778   \n",
       "sqft_basement  0.323799  0.302808   0.295020  0.015418 -0.245715    0.082800   \n",
       "zipcode       -0.053402 -0.154092  -0.200419 -0.129586 -0.059541    0.028923   \n",
       "sqft_living15  0.585241  0.393406   0.561429  0.144763  0.280102    0.083823   \n",
       "\n",
       "                   view  condition     grade  sqft_above  sqft_basement  \\\n",
       "price          0.393497   0.036056  0.667951    0.605368       0.323799   \n",
       "bedrooms       0.078354   0.026496  0.356563    0.479386       0.302808   \n",
       "bathrooms      0.188103  -0.110984  0.648023    0.671168       0.295020   \n",
       "sqft_lot       0.075054  -0.008830  0.114731    0.184139       0.015418   \n",
       "floors         0.028414  -0.264075  0.458794    0.523989      -0.245715   \n",
       "waterfront     0.380543   0.016648  0.082818    0.071778       0.082800   \n",
       "view           1.000000   0.045622  0.249082    0.166017       0.273845   \n",
       "condition      0.045622   1.000000 -0.146896   -0.158904       0.173849   \n",
       "grade          0.249082  -0.146896  1.000000    0.756073       0.168220   \n",
       "sqft_above     0.166017  -0.158904  0.756073    1.000000      -0.052156   \n",
       "sqft_basement  0.273845   0.173849  0.168220   -0.052156       1.000000   \n",
       "zipcode        0.085059   0.002888 -0.185771   -0.261570       0.074725   \n",
       "sqft_living15  0.278928  -0.093072  0.713867    0.731767       0.200443   \n",
       "\n",
       "                zipcode  sqft_living15  \n",
       "price         -0.053402       0.585241  \n",
       "bedrooms      -0.154092       0.393406  \n",
       "bathrooms     -0.200419       0.561429  \n",
       "sqft_lot      -0.129586       0.144763  \n",
       "floors        -0.059541       0.280102  \n",
       "waterfront     0.028923       0.083823  \n",
       "view           0.085059       0.278928  \n",
       "condition      0.002888      -0.093072  \n",
       "grade         -0.185771       0.713867  \n",
       "sqft_above    -0.261570       0.731767  \n",
       "sqft_basement  0.074725       0.200443  \n",
       "zipcode        1.000000      -0.279299  \n",
       "sqft_living15 -0.279299       1.000000  "
      ]
     },
     "execution_count": 54,
     "metadata": {},
     "output_type": "execute_result"
    }
   ],
   "source": [
    "df.corr()"
   ]
  },
  {
   "cell_type": "code",
   "execution_count": 55,
   "metadata": {},
   "outputs": [
    {
     "data": {
      "text/plain": [
       "Text(0.5, 1.0, 'Correlation Heatmap')"
      ]
     },
     "execution_count": 55,
     "metadata": {},
     "output_type": "execute_result"
    },
    {
     "data": {
      "image/png": "[encoded data removed]",
      "text/plain": [
       "<Figure size 720x720 with 2 Axes>"
      ]
     },
     "metadata": {
      "needs_background": "light"
     },
     "output_type": "display_data"
    }
   ],
   "source": [
    "import seaborn as sns\n",
    "corr=df.corr()\n",
    "plt.figure(figsize=(10,10))\n",
    "sns.heatmap(round(corr,2),annot=True)\n",
    "corr.style.background_gradient(cmap='coolwarm')\n",
    "plt.title('Correlation Heatmap',fontweight='bold',fontsize=15)"
   ]
  },
  {
   "cell_type": "markdown",
   "metadata": {},
   "source": [
    "<font color='green'>We can also see that the variable \"sqft_living15\" is likely highly correlated with the \"sqft_above\" variable, and delete it.</font>"
   ]
  },
  {
   "cell_type": "code",
   "execution_count": 56,
   "metadata": {},
   "outputs": [],
   "source": [
    "df.drop('sqft_living15',axis=1,inplace=True)"
   ]
  },
  {
   "cell_type": "markdown",
   "metadata": {},
   "source": [
    "<font color='green'>This is our \"first draft\" cleaned up dataframe. We will have to do some work to make our variables more suited for regression (such as turning categorical variables into dummy variables), but we've dealt with missing values, removed outliers, and got rid of unnecessary columns. </font>"
   ]
  },
  {
   "cell_type": "markdown",
   "metadata": {},
   "source": [
    "<font color='green'>We can save our dataframe to a csv file. </font>"
   ]
  },
  {
   "cell_type": "code",
   "execution_count": 57,
   "metadata": {},
   "outputs": [],
   "source": [
    "df.to_csv('Cleaned_Data_KMC_Housing.csv')"
   ]
  },
  {
   "cell_type": "markdown",
   "metadata": {},
   "source": [
    "<font color='green'>Let's visualize \"grade\" against \"price\".</font>"
   ]
  },
  {
   "cell_type": "code",
   "execution_count": 58,
   "metadata": {},
   "outputs": [
    {
     "data": {
      "text/plain": [
       "Text(0.5, 1.0, 'Scatter of Grade vs. Price')"
      ]
     },
     "execution_count": 58,
     "metadata": {},
     "output_type": "execute_result"
    },
    {
     "data": {
      "image/png": "[encoded data removed]",
      "text/plain": [
       "<Figure size 432x288 with 1 Axes>"
      ]
     },
     "metadata": {
      "needs_background": "light"
     },
     "output_type": "display_data"
    }
   ],
   "source": [
    "df.plot.scatter('grade','price')\n",
    "plt.title('Scatter of Grade vs. Price')"
   ]
  },
  {
   "cell_type": "markdown",
   "metadata": {},
   "source": [
    "<font color='green'>Let's observe 99th percentile of values to make sure that there doesn't seem to be anything crazy going on.</font>"
   ]
  },
  {
   "cell_type": "code",
   "execution_count": 59,
   "metadata": {},
   "outputs": [
    {
     "data": {
      "text/plain": [
       "price            1970000.0\n",
       "bedrooms               6.0\n",
       "bathrooms              4.0\n",
       "sqft_lot          213008.0\n",
       "floors                 3.0\n",
       "waterfront             0.0\n",
       "view                   4.0\n",
       "condition              5.0\n",
       "grade                 11.0\n",
       "sqft_above          4370.0\n",
       "sqft_basement       1660.0\n",
       "zipcode            98199.0\n",
       "Name: 0.99, dtype: float64"
      ]
     },
     "execution_count": 59,
     "metadata": {},
     "output_type": "execute_result"
    }
   ],
   "source": [
    "df.quantile(q=.99)"
   ]
  },
  {
   "cell_type": "markdown",
   "metadata": {},
   "source": [
    "<font color='green'>Let's remove outliers so that they don't unnecessarily throw off model predictions.</font>"
   ]
  },
  {
   "cell_type": "code",
   "execution_count": 60,
   "metadata": {},
   "outputs": [
    {
     "data": {
      "text/plain": [
       "21597"
      ]
     },
     "execution_count": 60,
     "metadata": {},
     "output_type": "execute_result"
    }
   ],
   "source": [
    "pre_outliers=len(df)\n",
    "pre_outliers"
   ]
  },
  {
   "cell_type": "code",
   "execution_count": 61,
   "metadata": {},
   "outputs": [],
   "source": [
    "df = df[df.price < 1970000]\n",
    "df = df[df.bedrooms < 6.0]\n",
    "df = df[df.bathrooms < 4.0]\n",
    "df = df[df.sqft_lot < 213008.0]\n",
    "df = df[df.sqft_above < 4370.0]\n",
    "df = df[df.sqft_basement < 1660.0]"
   ]
  },
  {
   "cell_type": "code",
   "execution_count": 62,
   "metadata": {},
   "outputs": [
    {
     "data": {
      "text/plain": [
       "20324"
      ]
     },
     "execution_count": 62,
     "metadata": {},
     "output_type": "execute_result"
    }
   ],
   "source": [
    "post_outliers=len(df)\n",
    "post_outliers"
   ]
  },
  {
   "cell_type": "code",
   "execution_count": 63,
   "metadata": {},
   "outputs": [
    {
     "data": {
      "text/plain": [
       "'Proportion of data removed: 0.058943371764596936'"
      ]
     },
     "execution_count": 63,
     "metadata": {},
     "output_type": "execute_result"
    }
   ],
   "source": [
    "'Proportion of data removed: ' + str(((pre_outliers-post_outliers)/pre_outliers))"
   ]
  },
  {
   "cell_type": "markdown",
   "metadata": {},
   "source": [
    "<font color='green'>Let's use grouping to analyze mean price by various variables.</font>"
   ]
  },
  {
   "cell_type": "code",
   "execution_count": 64,
   "metadata": {},
   "outputs": [
    {
     "data": {
      "text/html": [
       "<div>\n",
       "<style scoped>\n",
       "    .dataframe tbody tr th:only-of-type {\n",
       "        vertical-align: middle;\n",
       "    }\n",
       "\n",
       "    .dataframe tbody tr th {\n",
       "        vertical-align: top;\n",
       "    }\n",
       "\n",
       "    .dataframe thead th {\n",
       "        text-align: right;\n",
       "    }\n",
       "</style>\n",
       "<table border=\"1\" class=\"dataframe\">\n",
       "  <thead>\n",
       "    <tr style=\"text-align: right;\">\n",
       "      <th></th>\n",
       "      <th>grade</th>\n",
       "      <th>floors</th>\n",
       "      <th>price</th>\n",
       "    </tr>\n",
       "  </thead>\n",
       "  <tbody>\n",
       "    <tr>\n",
       "      <th>0</th>\n",
       "      <td>3</td>\n",
       "      <td>1.0</td>\n",
       "      <td>2.620000e+05</td>\n",
       "    </tr>\n",
       "    <tr>\n",
       "      <th>1</th>\n",
       "      <td>4</td>\n",
       "      <td>1.0</td>\n",
       "      <td>2.137620e+05</td>\n",
       "    </tr>\n",
       "    <tr>\n",
       "      <th>2</th>\n",
       "      <td>4</td>\n",
       "      <td>1.5</td>\n",
       "      <td>1.900000e+05</td>\n",
       "    </tr>\n",
       "    <tr>\n",
       "      <th>3</th>\n",
       "      <td>5</td>\n",
       "      <td>1.0</td>\n",
       "      <td>2.427711e+05</td>\n",
       "    </tr>\n",
       "    <tr>\n",
       "      <th>4</th>\n",
       "      <td>5</td>\n",
       "      <td>1.5</td>\n",
       "      <td>2.685790e+05</td>\n",
       "    </tr>\n",
       "    <tr>\n",
       "      <th>5</th>\n",
       "      <td>5</td>\n",
       "      <td>2.0</td>\n",
       "      <td>2.475000e+05</td>\n",
       "    </tr>\n",
       "    <tr>\n",
       "      <th>6</th>\n",
       "      <td>6</td>\n",
       "      <td>1.0</td>\n",
       "      <td>2.936770e+05</td>\n",
       "    </tr>\n",
       "    <tr>\n",
       "      <th>7</th>\n",
       "      <td>6</td>\n",
       "      <td>1.5</td>\n",
       "      <td>3.398968e+05</td>\n",
       "    </tr>\n",
       "    <tr>\n",
       "      <th>8</th>\n",
       "      <td>6</td>\n",
       "      <td>2.0</td>\n",
       "      <td>3.025907e+05</td>\n",
       "    </tr>\n",
       "    <tr>\n",
       "      <th>9</th>\n",
       "      <td>6</td>\n",
       "      <td>2.5</td>\n",
       "      <td>3.612500e+05</td>\n",
       "    </tr>\n",
       "    <tr>\n",
       "      <th>10</th>\n",
       "      <td>7</td>\n",
       "      <td>1.0</td>\n",
       "      <td>3.893286e+05</td>\n",
       "    </tr>\n",
       "    <tr>\n",
       "      <th>11</th>\n",
       "      <td>7</td>\n",
       "      <td>1.5</td>\n",
       "      <td>5.002664e+05</td>\n",
       "    </tr>\n",
       "    <tr>\n",
       "      <th>12</th>\n",
       "      <td>7</td>\n",
       "      <td>2.0</td>\n",
       "      <td>3.823355e+05</td>\n",
       "    </tr>\n",
       "    <tr>\n",
       "      <th>13</th>\n",
       "      <td>7</td>\n",
       "      <td>2.5</td>\n",
       "      <td>5.015000e+05</td>\n",
       "    </tr>\n",
       "    <tr>\n",
       "      <th>14</th>\n",
       "      <td>7</td>\n",
       "      <td>3.0</td>\n",
       "      <td>3.748155e+05</td>\n",
       "    </tr>\n",
       "    <tr>\n",
       "      <th>15</th>\n",
       "      <td>8</td>\n",
       "      <td>1.0</td>\n",
       "      <td>5.454759e+05</td>\n",
       "    </tr>\n",
       "    <tr>\n",
       "      <th>16</th>\n",
       "      <td>8</td>\n",
       "      <td>1.5</td>\n",
       "      <td>6.995116e+05</td>\n",
       "    </tr>\n",
       "    <tr>\n",
       "      <th>17</th>\n",
       "      <td>8</td>\n",
       "      <td>2.0</td>\n",
       "      <td>5.108240e+05</td>\n",
       "    </tr>\n",
       "    <tr>\n",
       "      <th>18</th>\n",
       "      <td>8</td>\n",
       "      <td>2.5</td>\n",
       "      <td>6.278973e+05</td>\n",
       "    </tr>\n",
       "    <tr>\n",
       "      <th>19</th>\n",
       "      <td>8</td>\n",
       "      <td>3.0</td>\n",
       "      <td>4.924071e+05</td>\n",
       "    </tr>\n",
       "    <tr>\n",
       "      <th>20</th>\n",
       "      <td>8</td>\n",
       "      <td>3.5</td>\n",
       "      <td>5.119167e+05</td>\n",
       "    </tr>\n",
       "    <tr>\n",
       "      <th>21</th>\n",
       "      <td>9</td>\n",
       "      <td>1.0</td>\n",
       "      <td>8.018335e+05</td>\n",
       "    </tr>\n",
       "    <tr>\n",
       "      <th>22</th>\n",
       "      <td>9</td>\n",
       "      <td>1.5</td>\n",
       "      <td>9.042490e+05</td>\n",
       "    </tr>\n",
       "    <tr>\n",
       "      <th>23</th>\n",
       "      <td>9</td>\n",
       "      <td>2.0</td>\n",
       "      <td>7.232356e+05</td>\n",
       "    </tr>\n",
       "    <tr>\n",
       "      <th>24</th>\n",
       "      <td>9</td>\n",
       "      <td>2.5</td>\n",
       "      <td>8.520595e+05</td>\n",
       "    </tr>\n",
       "    <tr>\n",
       "      <th>25</th>\n",
       "      <td>9</td>\n",
       "      <td>3.0</td>\n",
       "      <td>7.585587e+05</td>\n",
       "    </tr>\n",
       "    <tr>\n",
       "      <th>26</th>\n",
       "      <td>10</td>\n",
       "      <td>1.0</td>\n",
       "      <td>9.808321e+05</td>\n",
       "    </tr>\n",
       "    <tr>\n",
       "      <th>27</th>\n",
       "      <td>10</td>\n",
       "      <td>1.5</td>\n",
       "      <td>1.140069e+06</td>\n",
       "    </tr>\n",
       "    <tr>\n",
       "      <th>28</th>\n",
       "      <td>10</td>\n",
       "      <td>2.0</td>\n",
       "      <td>9.311186e+05</td>\n",
       "    </tr>\n",
       "    <tr>\n",
       "      <th>29</th>\n",
       "      <td>10</td>\n",
       "      <td>2.5</td>\n",
       "      <td>1.173469e+06</td>\n",
       "    </tr>\n",
       "    <tr>\n",
       "      <th>30</th>\n",
       "      <td>10</td>\n",
       "      <td>3.0</td>\n",
       "      <td>1.066417e+06</td>\n",
       "    </tr>\n",
       "    <tr>\n",
       "      <th>31</th>\n",
       "      <td>11</td>\n",
       "      <td>1.0</td>\n",
       "      <td>1.248333e+06</td>\n",
       "    </tr>\n",
       "    <tr>\n",
       "      <th>32</th>\n",
       "      <td>11</td>\n",
       "      <td>1.5</td>\n",
       "      <td>9.175000e+05</td>\n",
       "    </tr>\n",
       "    <tr>\n",
       "      <th>33</th>\n",
       "      <td>11</td>\n",
       "      <td>2.0</td>\n",
       "      <td>1.135369e+06</td>\n",
       "    </tr>\n",
       "    <tr>\n",
       "      <th>34</th>\n",
       "      <td>11</td>\n",
       "      <td>2.5</td>\n",
       "      <td>9.000000e+05</td>\n",
       "    </tr>\n",
       "    <tr>\n",
       "      <th>35</th>\n",
       "      <td>11</td>\n",
       "      <td>3.0</td>\n",
       "      <td>1.416000e+06</td>\n",
       "    </tr>\n",
       "    <tr>\n",
       "      <th>36</th>\n",
       "      <td>12</td>\n",
       "      <td>1.0</td>\n",
       "      <td>1.200000e+06</td>\n",
       "    </tr>\n",
       "    <tr>\n",
       "      <th>37</th>\n",
       "      <td>12</td>\n",
       "      <td>2.0</td>\n",
       "      <td>1.466667e+06</td>\n",
       "    </tr>\n",
       "    <tr>\n",
       "      <th>38</th>\n",
       "      <td>12</td>\n",
       "      <td>3.0</td>\n",
       "      <td>1.700000e+06</td>\n",
       "    </tr>\n",
       "  </tbody>\n",
       "</table>\n",
       "</div>"
      ],
      "text/plain": [
       "    grade  floors         price\n",
       "0       3     1.0  2.620000e+05\n",
       "1       4     1.0  2.137620e+05\n",
       "2       4     1.5  1.900000e+05\n",
       "3       5     1.0  2.427711e+05\n",
       "4       5     1.5  2.685790e+05\n",
       "5       5     2.0  2.475000e+05\n",
       "6       6     1.0  2.936770e+05\n",
       "7       6     1.5  3.398968e+05\n",
       "8       6     2.0  3.025907e+05\n",
       "9       6     2.5  3.612500e+05\n",
       "10      7     1.0  3.893286e+05\n",
       "11      7     1.5  5.002664e+05\n",
       "12      7     2.0  3.823355e+05\n",
       "13      7     2.5  5.015000e+05\n",
       "14      7     3.0  3.748155e+05\n",
       "15      8     1.0  5.454759e+05\n",
       "16      8     1.5  6.995116e+05\n",
       "17      8     2.0  5.108240e+05\n",
       "18      8     2.5  6.278973e+05\n",
       "19      8     3.0  4.924071e+05\n",
       "20      8     3.5  5.119167e+05\n",
       "21      9     1.0  8.018335e+05\n",
       "22      9     1.5  9.042490e+05\n",
       "23      9     2.0  7.232356e+05\n",
       "24      9     2.5  8.520595e+05\n",
       "25      9     3.0  7.585587e+05\n",
       "26     10     1.0  9.808321e+05\n",
       "27     10     1.5  1.140069e+06\n",
       "28     10     2.0  9.311186e+05\n",
       "29     10     2.5  1.173469e+06\n",
       "30     10     3.0  1.066417e+06\n",
       "31     11     1.0  1.248333e+06\n",
       "32     11     1.5  9.175000e+05\n",
       "33     11     2.0  1.135369e+06\n",
       "34     11     2.5  9.000000e+05\n",
       "35     11     3.0  1.416000e+06\n",
       "36     12     1.0  1.200000e+06\n",
       "37     12     2.0  1.466667e+06\n",
       "38     12     3.0  1.700000e+06"
      ]
     },
     "execution_count": 64,
     "metadata": {},
     "output_type": "execute_result"
    }
   ],
   "source": [
    "grouping_df=df.groupby(['grade','floors'],as_index=False)['price'].mean()\n",
    "grouping_df"
   ]
  },
  {
   "cell_type": "markdown",
   "metadata": {},
   "source": [
    "<font color='green'>Generally, home prices increase for higher combinations of grades and floors.</font>"
   ]
  },
  {
   "cell_type": "code",
   "execution_count": 65,
   "metadata": {},
   "outputs": [
    {
     "data": {
      "text/plain": [
       "['price',\n",
       " 'bedrooms',\n",
       " 'bathrooms',\n",
       " 'sqft_lot',\n",
       " 'floors',\n",
       " 'waterfront',\n",
       " 'view',\n",
       " 'condition',\n",
       " 'grade',\n",
       " 'sqft_above',\n",
       " 'sqft_basement',\n",
       " 'zipcode']"
      ]
     },
     "execution_count": 65,
     "metadata": {},
     "output_type": "execute_result"
    }
   ],
   "source": [
    "list(df.columns)"
   ]
  },
  {
   "cell_type": "markdown",
   "metadata": {},
   "source": [
    "<font color='green'>Let's run an initial regression on this dataset.</font>"
   ]
  },
  {
   "cell_type": "code",
   "execution_count": 66,
   "metadata": {},
   "outputs": [
    {
     "data": {
      "text/plain": [
       "['bedrooms',\n",
       " 'bathrooms',\n",
       " 'sqft_lot',\n",
       " 'floors',\n",
       " 'waterfront',\n",
       " 'view',\n",
       " 'condition',\n",
       " 'grade',\n",
       " 'sqft_above',\n",
       " 'sqft_basement',\n",
       " 'zipcode']"
      ]
     },
     "execution_count": 66,
     "metadata": {},
     "output_type": "execute_result"
    }
   ],
   "source": [
    "independent_vbles=list(df.columns)\n",
    "independent_vbles.remove('price')\n",
    "independent_vbles"
   ]
  },
  {
   "cell_type": "code",
   "execution_count": 67,
   "metadata": {},
   "outputs": [
    {
     "name": "stdout",
     "output_type": "stream",
     "text": [
      "                            OLS Regression Results                            \n",
      "==============================================================================\n",
      "Dep. Variable:                  price   R-squared:                       0.543\n",
      "Model:                            OLS   Adj. R-squared:                  0.543\n",
      "Method:                 Least Squares   F-statistic:                     2198.\n",
      "Date:                Sun, 15 Sep 2019   Prob (F-statistic):               0.00\n",
      "Time:                        14:39:55   Log-Likelihood:            -2.7426e+05\n",
      "No. Observations:               20324   AIC:                         5.485e+05\n",
      "Df Residuals:                   20312   BIC:                         5.486e+05\n",
      "Df Model:                          11                                         \n",
      "Covariance Type:            nonrobust                                         \n",
      "=================================================================================\n",
      "                    coef    std err          t      P>|t|      [0.025      0.975]\n",
      "---------------------------------------------------------------------------------\n",
      "Intercept     -3.783e+07   2.43e+06    -15.541      0.000   -4.26e+07   -3.31e+07\n",
      "bedrooms      -1.941e+04   1958.117     -9.913      0.000   -2.32e+04   -1.56e+04\n",
      "bathrooms     -2.788e+04   2864.506     -9.732      0.000   -3.35e+04   -2.23e+04\n",
      "sqft_lot         -0.4829      0.070     -6.897      0.000      -0.620      -0.346\n",
      "floors         1.328e+04   3139.686      4.231      0.000    7129.570    1.94e+04\n",
      "waterfront     2.574e+05   1.99e+04     12.935      0.000    2.18e+05    2.96e+05\n",
      "view           5.192e+04   2011.249     25.812      0.000     4.8e+04    5.59e+04\n",
      "condition       5.08e+04   1994.410     25.472      0.000    4.69e+04    5.47e+04\n",
      "grade          1.034e+05   1837.166     56.277      0.000    9.98e+04    1.07e+05\n",
      "sqft_above      131.9486      3.297     40.018      0.000     125.486     138.411\n",
      "sqft_basement   165.6385      4.232     39.137      0.000     157.343     173.934\n",
      "zipcode         379.2619     24.801     15.292      0.000     330.651     427.873\n",
      "==============================================================================\n",
      "Omnibus:                     5174.692   Durbin-Watson:                   1.962\n",
      "Prob(Omnibus):                  0.000   Jarque-Bera (JB):            20311.343\n",
      "Skew:                           1.222   Prob(JB):                         0.00\n",
      "Kurtosis:                       7.244   Cond. No.                     1.95e+08\n",
      "==============================================================================\n",
      "\n",
      "Warnings:\n",
      "[1] Standard Errors assume that the covariance matrix of the errors is correctly specified.\n",
      "[2] The condition number is large, 1.95e+08. This might indicate that there are\n",
      "strong multicollinearity or other numerical problems.\n"
     ]
    }
   ],
   "source": [
    "from statsmodels.formula.api import ols\n",
    "dependent_vble = 'price'\n",
    "#independent_vbles list already defined above\n",
    "predictors = '+'.join(independent_vbles)\n",
    "formula = dependent_vble + \"~\" + predictors\n",
    "model = ols(formula=formula,data=df).fit()\n",
    "print(model.summary())"
   ]
  },
  {
   "cell_type": "markdown",
   "metadata": {},
   "source": [
    "<font color='green'>Let's clean up the variables further, because as it currently stands, our model is unintuitive. For instance, the number of bedrooms and floors are negatively correlated with house prices in our multiple regression model. For our next iteration, we will scale/normalize our variables, create dummy variables for categorical variables, and deal with potential multicollinearity further. </font>"
   ]
  },
  {
   "cell_type": "markdown",
   "metadata": {},
   "source": [
    "<font color='green'>Let's analyze our variables to see which are categorical and need to be made into dummy variables. </font>"
   ]
  },
  {
   "cell_type": "code",
   "execution_count": 68,
   "metadata": {},
   "outputs": [
    {
     "data": {
      "image/png": "[encoded data removed]",
      "text/plain": [
       "<Figure size 216x216 with 1 Axes>"
      ]
     },
     "metadata": {
      "needs_background": "light"
     },
     "output_type": "display_data"
    },
    {
     "data": {
      "image/png": "[encoded data removed]",
      "text/plain": [
       "<Figure size 216x216 with 1 Axes>"
      ]
     },
     "metadata": {
      "needs_background": "light"
     },
     "output_type": "display_data"
    },
    {
     "data": {
      "image/png": "[encoded data removed]",
      "text/plain": [
       "<Figure size 216x216 with 1 Axes>"
      ]
     },
     "metadata": {
      "needs_background": "light"
     },
     "output_type": "display_data"
    },
    {
     "data": {
      "image/png": "[encoded data removed]",
      "text/plain": [
       "<Figure size 216x216 with 1 Axes>"
      ]
     },
     "metadata": {
      "needs_background": "light"
     },
     "output_type": "display_data"
    },
    {
     "data": {
      "image/png": "[encoded data removed]",
      "text/plain": [
       "<Figure size 216x216 with 1 Axes>"
      ]
     },
     "metadata": {
      "needs_background": "light"
     },
     "output_type": "display_data"
    },
    {
     "data": {
      "image/png": "[encoded data removed]",
      "text/plain": [
       "<Figure size 216x216 with 1 Axes>"
      ]
     },
     "metadata": {
      "needs_background": "light"
     },
     "output_type": "display_data"
    },
    {
     "data": {
      "image/png": "[encoded data removed]",
      "text/plain": [
       "<Figure size 216x216 with 1 Axes>"
      ]
     },
     "metadata": {
      "needs_background": "light"
     },
     "output_type": "display_data"
    },
    {
     "data": {
      "image/png": "[encoded data removed]",
      "text/plain": [
       "<Figure size 216x216 with 1 Axes>"
      ]
     },
     "metadata": {
      "needs_background": "light"
     },
     "output_type": "display_data"
    },
    {
     "data": {
      "image/png": "[encoded data removed]",
      "text/plain": [
       "<Figure size 216x216 with 1 Axes>"
      ]
     },
     "metadata": {
      "needs_background": "light"
     },
     "output_type": "display_data"
    },
    {
     "data": {
      "image/png": "[encoded data removed]",
      "text/plain": [
       "<Figure size 216x216 with 1 Axes>"
      ]
     },
     "metadata": {
      "needs_background": "light"
     },
     "output_type": "display_data"
    },
    {
     "data": {
      "image/png": "[encoded data removed]",
      "text/plain": [
       "<Figure size 216x216 with 1 Axes>"
      ]
     },
     "metadata": {
      "needs_background": "light"
     },
     "output_type": "display_data"
    },
    {
     "data": {
      "image/png": "[encoded data removed]",
      "text/plain": [
       "<Figure size 216x216 with 1 Axes>"
      ]
     },
     "metadata": {
      "needs_background": "light"
     },
     "output_type": "display_data"
    }
   ],
   "source": [
    "for element in df.columns:\n",
    "    df.plot.scatter(element,'price',figsize=(3,3))\n",
    "    plt.title(element)"
   ]
  },
  {
   "cell_type": "markdown",
   "metadata": {},
   "source": [
    "<font color='green'>As we can see, \"bedrooms,\" \"bathrooms,\" \"floors,\" \"waterfront,\" \"view,\" \"condition,\" and \"grade\" are categorical and need to be addressed.</font>"
   ]
  },
  {
   "cell_type": "code",
   "execution_count": 69,
   "metadata": {},
   "outputs": [
    {
     "data": {
      "text/plain": [
       "Index(['price', 'bedrooms', 'bathrooms', 'sqft_lot', 'floors', 'waterfront',\n",
       "       'view', 'condition', 'grade', 'sqft_above', 'sqft_basement', 'zipcode'],\n",
       "      dtype='object')"
      ]
     },
     "execution_count": 69,
     "metadata": {},
     "output_type": "execute_result"
    }
   ],
   "source": [
    "df.columns"
   ]
  },
  {
   "cell_type": "code",
   "execution_count": 70,
   "metadata": {},
   "outputs": [
    {
     "data": {
      "text/html": [
       "<div>\n",
       "<style scoped>\n",
       "    .dataframe tbody tr th:only-of-type {\n",
       "        vertical-align: middle;\n",
       "    }\n",
       "\n",
       "    .dataframe tbody tr th {\n",
       "        vertical-align: top;\n",
       "    }\n",
       "\n",
       "    .dataframe thead th {\n",
       "        text-align: right;\n",
       "    }\n",
       "</style>\n",
       "<table border=\"1\" class=\"dataframe\">\n",
       "  <thead>\n",
       "    <tr style=\"text-align: right;\">\n",
       "      <th></th>\n",
       "      <th>price</th>\n",
       "      <th>sqft_lot</th>\n",
       "      <th>sqft_above</th>\n",
       "      <th>sqft_basement</th>\n",
       "      <th>bed_2</th>\n",
       "      <th>bed_3</th>\n",
       "      <th>bed_4</th>\n",
       "      <th>bed_5</th>\n",
       "      <th>bath_1.0</th>\n",
       "      <th>bath_1.5</th>\n",
       "      <th>...</th>\n",
       "      <th>zip_98146</th>\n",
       "      <th>zip_98148</th>\n",
       "      <th>zip_98155</th>\n",
       "      <th>zip_98166</th>\n",
       "      <th>zip_98168</th>\n",
       "      <th>zip_98177</th>\n",
       "      <th>zip_98178</th>\n",
       "      <th>zip_98188</th>\n",
       "      <th>zip_98198</th>\n",
       "      <th>zip_98199</th>\n",
       "    </tr>\n",
       "    <tr>\n",
       "      <th>id</th>\n",
       "      <th></th>\n",
       "      <th></th>\n",
       "      <th></th>\n",
       "      <th></th>\n",
       "      <th></th>\n",
       "      <th></th>\n",
       "      <th></th>\n",
       "      <th></th>\n",
       "      <th></th>\n",
       "      <th></th>\n",
       "      <th></th>\n",
       "      <th></th>\n",
       "      <th></th>\n",
       "      <th></th>\n",
       "      <th></th>\n",
       "      <th></th>\n",
       "      <th></th>\n",
       "      <th></th>\n",
       "      <th></th>\n",
       "      <th></th>\n",
       "      <th></th>\n",
       "    </tr>\n",
       "  </thead>\n",
       "  <tbody>\n",
       "    <tr>\n",
       "      <th>7129300520</th>\n",
       "      <td>221900.0</td>\n",
       "      <td>5650</td>\n",
       "      <td>1180</td>\n",
       "      <td>0</td>\n",
       "      <td>0</td>\n",
       "      <td>1</td>\n",
       "      <td>0</td>\n",
       "      <td>0</td>\n",
       "      <td>1</td>\n",
       "      <td>0</td>\n",
       "      <td>...</td>\n",
       "      <td>0</td>\n",
       "      <td>0</td>\n",
       "      <td>0</td>\n",
       "      <td>0</td>\n",
       "      <td>0</td>\n",
       "      <td>0</td>\n",
       "      <td>1</td>\n",
       "      <td>0</td>\n",
       "      <td>0</td>\n",
       "      <td>0</td>\n",
       "    </tr>\n",
       "    <tr>\n",
       "      <th>6414100192</th>\n",
       "      <td>538000.0</td>\n",
       "      <td>7242</td>\n",
       "      <td>2170</td>\n",
       "      <td>400</td>\n",
       "      <td>0</td>\n",
       "      <td>1</td>\n",
       "      <td>0</td>\n",
       "      <td>0</td>\n",
       "      <td>0</td>\n",
       "      <td>0</td>\n",
       "      <td>...</td>\n",
       "      <td>0</td>\n",
       "      <td>0</td>\n",
       "      <td>0</td>\n",
       "      <td>0</td>\n",
       "      <td>0</td>\n",
       "      <td>0</td>\n",
       "      <td>0</td>\n",
       "      <td>0</td>\n",
       "      <td>0</td>\n",
       "      <td>0</td>\n",
       "    </tr>\n",
       "  </tbody>\n",
       "</table>\n",
       "<p>2 rows × 108 columns</p>\n",
       "</div>"
      ],
      "text/plain": [
       "               price  sqft_lot  sqft_above  sqft_basement  bed_2  bed_3  \\\n",
       "id                                                                        \n",
       "7129300520  221900.0      5650        1180              0      0      1   \n",
       "6414100192  538000.0      7242        2170            400      0      1   \n",
       "\n",
       "            bed_4  bed_5  bath_1.0  bath_1.5  ...  zip_98146  zip_98148  \\\n",
       "id                                            ...                         \n",
       "7129300520      0      0         1         0  ...          0          0   \n",
       "6414100192      0      0         0         0  ...          0          0   \n",
       "\n",
       "            zip_98155  zip_98166  zip_98168  zip_98177  zip_98178  zip_98188  \\\n",
       "id                                                                             \n",
       "7129300520          0          0          0          0          1          0   \n",
       "6414100192          0          0          0          0          0          0   \n",
       "\n",
       "            zip_98198  zip_98199  \n",
       "id                                \n",
       "7129300520          0          0  \n",
       "6414100192          0          0  \n",
       "\n",
       "[2 rows x 108 columns]"
      ]
     },
     "execution_count": 70,
     "metadata": {},
     "output_type": "execute_result"
    }
   ],
   "source": [
    "bed_dummies = pd.get_dummies(df['bedrooms'],prefix='bed')\n",
    "bath_dummies = pd.get_dummies(df['bathrooms'],prefix='bath')\n",
    "floors_dummies = pd.get_dummies(df['floors'],prefix='floors')\n",
    "water_dummies = pd.get_dummies(df['waterfront'],prefix='water')\n",
    "view_dummies = pd.get_dummies(df['view'],prefix='view')\n",
    "cond_dummies = pd.get_dummies(df['condition'],prefix='cond')\n",
    "grade_dummies = pd.get_dummies(df['grade'],prefix='grade')\n",
    "zip_dummies = pd.get_dummies(df['zipcode'],prefix='zip')\n",
    "df = pd.concat([df,bed_dummies,bath_dummies,floors_dummies,water_dummies,view_dummies,\n",
    "               cond_dummies,grade_dummies,zip_dummies],axis=1)\n",
    "df.drop(['bedrooms','bathrooms','floors','waterfront','view','condition','grade','zipcode'],axis=1,inplace=True)\n",
    "df.drop(['bed_1','bath_0.5','floors_1.0','view_0.0','cond_1','grade_3'],axis=1,inplace=True) \n",
    "#drop to avoid multicollinearity\n",
    "df.head(2)"
   ]
  },
  {
   "cell_type": "code",
   "execution_count": 71,
   "metadata": {},
   "outputs": [
    {
     "data": {
      "text/plain": [
       "Index(['price', 'sqft_lot', 'sqft_above', 'sqft_basement', 'bed_2', 'bed_3',\n",
       "       'bed_4', 'bed_5', 'bath_1.0', 'bath_1.5',\n",
       "       ...\n",
       "       'zip_98146', 'zip_98148', 'zip_98155', 'zip_98166', 'zip_98168',\n",
       "       'zip_98177', 'zip_98178', 'zip_98188', 'zip_98198', 'zip_98199'],\n",
       "      dtype='object', length=108)"
      ]
     },
     "execution_count": 71,
     "metadata": {},
     "output_type": "execute_result"
    }
   ],
   "source": [
    "df.columns"
   ]
  },
  {
   "cell_type": "code",
   "execution_count": 72,
   "metadata": {},
   "outputs": [
    {
     "data": {
      "text/plain": [
       "(20324, 108)"
      ]
     },
     "execution_count": 72,
     "metadata": {},
     "output_type": "execute_result"
    }
   ],
   "source": [
    "np.shape(df)"
   ]
  },
  {
   "cell_type": "markdown",
   "metadata": {},
   "source": [
    "<font color='green'>Creating dummy variables has resulted in 56 columns for our regression. With this more granular segmentation, it should be easier to interpret the results.</font>"
   ]
  },
  {
   "cell_type": "markdown",
   "metadata": {},
   "source": [
    "<font color='green'>Let's perform standard normalization feature scaling so that the non-categorical variables are on the same scale.  </font>"
   ]
  },
  {
   "cell_type": "code",
   "execution_count": 73,
   "metadata": {},
   "outputs": [
    {
     "data": {
      "text/plain": [
       "count    2.032400e+04\n",
       "mean    -1.961135e-16\n",
       "std      1.000025e+00\n",
       "min     -5.939402e-01\n",
       "25%     -3.519935e-01\n",
       "50%     -2.175188e-01\n",
       "75%     -7.116265e-02\n",
       "max      1.086175e+01\n",
       "Name: sqft_lot, dtype: float64"
      ]
     },
     "execution_count": 73,
     "metadata": {},
     "output_type": "execute_result"
    }
   ],
   "source": [
    "sqftlot= df['sqft_lot']\n",
    "df_scaled = pd.DataFrame([])\n",
    "df_scaled['sqft_lot'] = (sqftlot-np.mean(sqftlot))/np.sqrt(np.var(sqftlot))\n",
    "df['sqft_lot'] = df_scaled['sqft_lot']\n",
    "df['sqft_lot'].describe()"
   ]
  },
  {
   "cell_type": "code",
   "execution_count": 74,
   "metadata": {},
   "outputs": [
    {
     "data": {
      "text/plain": [
       "count    2.032400e+04\n",
       "mean     5.212651e-16\n",
       "std      1.000025e+00\n",
       "min     -1.866394e+00\n",
       "25%     -7.495967e-01\n",
       "50%     -2.609980e-01\n",
       "75%      5.626399e-01\n",
       "max      3.703632e+00\n",
       "Name: sqft_above, dtype: float64"
      ]
     },
     "execution_count": 74,
     "metadata": {},
     "output_type": "execute_result"
    }
   ],
   "source": [
    "sqftabove= df['sqft_above']\n",
    "df_scaled['sqft_above'] = (sqftabove-np.mean(sqftabove))/np.sqrt(np.var(sqftabove))\n",
    "df['sqft_above'] = df_scaled['sqft_above']\n",
    "df['sqft_above'].describe()"
   ]
  },
  {
   "cell_type": "code",
   "execution_count": 75,
   "metadata": {},
   "outputs": [
    {
     "data": {
      "text/plain": [
       "count    20324.000000\n",
       "mean         0.159493\n",
       "std          0.239957\n",
       "min          0.000000\n",
       "25%          0.000000\n",
       "50%          0.000000\n",
       "75%          0.309091\n",
       "max          1.000000\n",
       "Name: sqft_basement, dtype: float64"
      ]
     },
     "execution_count": 75,
     "metadata": {},
     "output_type": "execute_result"
    }
   ],
   "source": [
    "#Perform min-max scaling instead of standard normalization, to show both types\n",
    "sqftbasement= df['sqft_basement']\n",
    "df_scaled['sqft_basement'] = (sqftbasement-min(sqftbasement))/(max(sqftbasement)-min(sqftbasement))\n",
    "df['sqft_basement'] = df_scaled['sqft_basement']\n",
    "df['sqft_basement'].describe()"
   ]
  },
  {
   "cell_type": "markdown",
   "metadata": {},
   "source": [
    "<font color='green'>The regression model (via statsmodels) is sensitive to _'s and .'s for column variables, so we'll take care of the column formatting.</font>"
   ]
  },
  {
   "cell_type": "code",
   "execution_count": 76,
   "metadata": {},
   "outputs": [],
   "source": [
    "df.columns = [i.replace(\"_\",\"\") for i in df.columns]\n",
    "df.columns = [i.replace(\".\",\"p\") for i in df.columns]"
   ]
  },
  {
   "cell_type": "code",
   "execution_count": 77,
   "metadata": {},
   "outputs": [
    {
     "data": {
      "text/plain": [
       "Index(['price', 'sqftlot', 'sqftabove', 'sqftbasement', 'bed2', 'bed3', 'bed4',\n",
       "       'bed5', 'bath1p0', 'bath1p5',\n",
       "       ...\n",
       "       'zip98146', 'zip98148', 'zip98155', 'zip98166', 'zip98168', 'zip98177',\n",
       "       'zip98178', 'zip98188', 'zip98198', 'zip98199'],\n",
       "      dtype='object', length=108)"
      ]
     },
     "execution_count": 77,
     "metadata": {},
     "output_type": "execute_result"
    }
   ],
   "source": [
    "df.columns"
   ]
  },
  {
   "cell_type": "code",
   "execution_count": 78,
   "metadata": {},
   "outputs": [
    {
     "name": "stdout",
     "output_type": "stream",
     "text": [
      "                            OLS Regression Results                            \n",
      "==============================================================================\n",
      "Dep. Variable:                  price   R-squared:                       0.835\n",
      "Model:                            OLS   Adj. R-squared:                  0.834\n",
      "Method:                 Least Squares   F-statistic:                     971.1\n",
      "Date:                Sun, 15 Sep 2019   Prob (F-statistic):               0.00\n",
      "Time:                        14:39:59   Log-Likelihood:            -2.6395e+05\n",
      "No. Observations:               20324   AIC:                         5.281e+05\n",
      "Df Residuals:                   20218   BIC:                         5.289e+05\n",
      "Df Model:                         105                                         \n",
      "Covariance Type:            nonrobust                                         \n",
      "================================================================================\n",
      "                   coef    std err          t      P>|t|      [0.025      0.975]\n",
      "--------------------------------------------------------------------------------\n",
      "Intercept     4.152e+05   7.97e+04      5.207      0.000    2.59e+05    5.71e+05\n",
      "sqftlot       8587.7625    853.041     10.067      0.000    6915.732    1.03e+04\n",
      "sqftabove     1.015e+05   1596.581     63.554      0.000    9.83e+04    1.05e+05\n",
      "sqftbasement  1.597e+05   4341.230     36.793      0.000    1.51e+05    1.68e+05\n",
      "bed2          6560.9907   8083.330      0.812      0.417   -9282.993    2.24e+04\n",
      "bed3          1.521e+04   8116.421      1.875      0.061    -694.541    3.11e+04\n",
      "bed4          9768.0129   8324.146      1.173      0.241   -6547.990    2.61e+04\n",
      "bed5         -3045.7178   8846.833     -0.344      0.731   -2.04e+04    1.43e+04\n",
      "bath1p0       3.293e+04   5.31e+04      0.620      0.535   -7.12e+04    1.37e+05\n",
      "bath1p5       2.618e+04   5.32e+04      0.492      0.623   -7.81e+04     1.3e+05\n",
      "bath2p0       3.167e+04   5.31e+04      0.596      0.551   -7.25e+04    1.36e+05\n",
      "bath2p5       3.209e+04   5.32e+04      0.604      0.546   -7.21e+04    1.36e+05\n",
      "bath3p0       5.333e+04   5.32e+04      1.002      0.316    -5.1e+04    1.58e+05\n",
      "bath3p5       6.586e+04   5.34e+04      1.234      0.217   -3.87e+04     1.7e+05\n",
      "floors1p5     3275.3828   2974.714      1.101      0.271   -2555.298    9106.064\n",
      "floors2p0    -1.807e+04   2542.384     -7.107      0.000   -2.31e+04   -1.31e+04\n",
      "floors2p5    -1.144e+04   1.03e+04     -1.110      0.267   -3.16e+04    8756.835\n",
      "floors3p0    -7.339e+04   5294.025    -13.863      0.000   -8.38e+04    -6.3e+04\n",
      "floors3p5     -9.96e+04   4.35e+04     -2.291      0.022   -1.85e+05   -1.44e+04\n",
      "water0p0      5.181e+04   4.01e+04      1.293      0.196   -2.67e+04     1.3e+05\n",
      "water1p0      3.634e+05   4.08e+04      8.899      0.000    2.83e+05    4.43e+05\n",
      "view1p0       8.731e+04   6351.272     13.747      0.000    7.49e+04    9.98e+04\n",
      "view2p0       8.204e+04   3930.351     20.872      0.000    7.43e+04    8.97e+04\n",
      "view3p0       1.589e+05   5571.997     28.519      0.000    1.48e+05     1.7e+05\n",
      "view4p0       2.604e+05   9242.957     28.170      0.000    2.42e+05    2.78e+05\n",
      "cond2         5.134e+04   2.18e+04      2.351      0.019    8531.734    9.42e+04\n",
      "cond3         7.189e+04   2.03e+04      3.543      0.000    3.21e+04    1.12e+05\n",
      "cond4         9.527e+04   2.03e+04      4.691      0.000    5.55e+04    1.35e+05\n",
      "cond5          1.35e+05   2.04e+04      6.608      0.000     9.5e+04    1.75e+05\n",
      "grade4       -1.349e+05   1.08e+05     -1.246      0.213   -3.47e+05    7.74e+04\n",
      "grade5       -1.722e+05   1.07e+05     -1.614      0.107   -3.81e+05    3.69e+04\n",
      "grade6        -1.74e+05   1.07e+05     -1.633      0.102   -3.83e+05    3.48e+04\n",
      "grade7       -1.574e+05   1.07e+05     -1.477      0.140   -3.66e+05    5.14e+04\n",
      "grade8       -1.168e+05   1.07e+05     -1.096      0.273   -3.26e+05    9.21e+04\n",
      "grade9       -3.172e+04   1.07e+05     -0.298      0.766   -2.41e+05    1.77e+05\n",
      "grade10        5.32e+04   1.07e+05      0.499      0.618   -1.56e+05    2.62e+05\n",
      "grade11        1.75e+05   1.07e+05      1.636      0.102   -3.47e+04    3.85e+05\n",
      "grade12       3.477e+05    1.1e+05      3.154      0.002    1.32e+05    5.64e+05\n",
      "zip98001     -1.932e+05   5730.159    -33.721      0.000   -2.04e+05   -1.82e+05\n",
      "zip98002     -1.849e+05   7765.735    -23.807      0.000      -2e+05    -1.7e+05\n",
      "zip98003     -1.898e+05   6534.860    -29.038      0.000   -2.03e+05   -1.77e+05\n",
      "zip98004      4.911e+05   6853.643     71.662      0.000    4.78e+05    5.05e+05\n",
      "zip98005      1.527e+05   8787.538     17.374      0.000    1.35e+05     1.7e+05\n",
      "zip98006      8.495e+04   5404.004     15.720      0.000    7.44e+04    9.55e+04\n",
      "zip98007       6.88e+04   9353.217      7.356      0.000    5.05e+04    8.71e+04\n",
      "zip98008      6.463e+04   6592.443      9.804      0.000    5.17e+04    7.76e+04\n",
      "zip98010     -1.217e+05   1.11e+04    -10.987      0.000   -1.43e+05      -1e+05\n",
      "zip98011     -4.517e+04   7719.215     -5.852      0.000   -6.03e+04      -3e+04\n",
      "zip98014     -1.089e+05   1.04e+04    -10.425      0.000   -1.29e+05   -8.84e+04\n",
      "zip98019     -9.081e+04   8161.461    -11.126      0.000   -1.07e+05   -7.48e+04\n",
      "zip98022     -2.055e+05   7501.152    -27.395      0.000    -2.2e+05   -1.91e+05\n",
      "zip98023     -2.123e+05   4971.429    -42.702      0.000   -2.22e+05   -2.03e+05\n",
      "zip98024     -4.517e+04   1.36e+04     -3.316      0.001   -7.19e+04   -1.85e+04\n",
      "zip98027     -1995.4774   5662.252     -0.352      0.725   -1.31e+04    9102.997\n",
      "zip98028     -5.265e+04   6489.783     -8.113      0.000   -6.54e+04   -3.99e+04\n",
      "zip98029      3.273e+04   6254.005      5.234      0.000    2.05e+04     4.5e+04\n",
      "zip98030     -1.817e+05   6796.109    -26.737      0.000   -1.95e+05   -1.68e+05\n",
      "zip98031     -1.716e+05   6560.810    -26.162      0.000   -1.85e+05   -1.59e+05\n",
      "zip98032     -1.913e+05   9598.364    -19.925      0.000    -2.1e+05   -1.72e+05\n",
      "zip98033      1.572e+05   5494.943     28.614      0.000    1.46e+05    1.68e+05\n",
      "zip98034      4680.9380   4840.830      0.967      0.334   -4807.483    1.42e+04\n",
      "zip98038      -1.54e+05   4745.813    -32.454      0.000   -1.63e+05   -1.45e+05\n",
      "zip98039      7.395e+05   2.06e+04     35.938      0.000    6.99e+05     7.8e+05\n",
      "zip98040      2.974e+05   7364.989     40.375      0.000    2.83e+05    3.12e+05\n",
      "zip98042     -1.838e+05   4808.674    -38.216      0.000   -1.93e+05   -1.74e+05\n",
      "zip98045     -8.894e+04   7502.599    -11.854      0.000   -1.04e+05   -7.42e+04\n",
      "zip98052      6.356e+04   4721.893     13.461      0.000    5.43e+04    7.28e+04\n",
      "zip98053      4.059e+04   5855.049      6.933      0.000    2.91e+04    5.21e+04\n",
      "zip98055     -1.463e+05   6646.721    -22.015      0.000   -1.59e+05   -1.33e+05\n",
      "zip98056         -1e+05   5517.289    -18.130      0.000   -1.11e+05   -8.92e+04\n",
      "zip98058     -1.541e+05   5211.417    -29.567      0.000   -1.64e+05   -1.44e+05\n",
      "zip98059     -9.397e+04   5249.713    -17.900      0.000   -1.04e+05   -8.37e+04\n",
      "zip98065     -7.481e+04   6428.824    -11.637      0.000   -8.74e+04   -6.22e+04\n",
      "zip98070      -1.53e+05    1.1e+04    -13.964      0.000   -1.75e+05   -1.32e+05\n",
      "zip98072     -1.659e+04   6667.175     -2.488      0.013   -2.97e+04   -3516.841\n",
      "zip98074      7197.5269   5452.968      1.320      0.187   -3490.734    1.79e+04\n",
      "zip98075      2.018e+04   6259.302      3.225      0.001    7915.582    3.25e+04\n",
      "zip98077     -4.597e+04   8265.303     -5.562      0.000   -6.22e+04   -2.98e+04\n",
      "zip98092     -2.128e+05   6015.712    -35.381      0.000   -2.25e+05   -2.01e+05\n",
      "zip98102      2.705e+05   1.09e+04     24.759      0.000    2.49e+05    2.92e+05\n",
      "zip98103      1.564e+05   4839.483     32.327      0.000    1.47e+05    1.66e+05\n",
      "zip98105      2.757e+05   7517.614     36.671      0.000    2.61e+05     2.9e+05\n",
      "zip98106     -6.841e+04   6050.202    -11.307      0.000   -8.03e+04   -5.66e+04\n",
      "zip98107      1.516e+05   6857.219     22.115      0.000    1.38e+05    1.65e+05\n",
      "zip98108     -6.822e+04   8007.255     -8.520      0.000   -8.39e+04   -5.25e+04\n",
      "zip98109      3.144e+05   1.05e+04     30.016      0.000    2.94e+05    3.35e+05\n",
      "zip98112      3.649e+05   7246.243     50.363      0.000    3.51e+05    3.79e+05\n",
      "zip98115      1.563e+05   4699.124     33.261      0.000    1.47e+05    1.66e+05\n",
      "zip98116      1.115e+05   6134.565     18.175      0.000    9.95e+04    1.24e+05\n",
      "zip98117      1.347e+05   4827.594     27.907      0.000    1.25e+05    1.44e+05\n",
      "zip98118     -2.027e+04   5050.947     -4.014      0.000   -3.02e+04   -1.04e+04\n",
      "zip98119      2.633e+05   8393.927     31.371      0.000    2.47e+05     2.8e+05\n",
      "zip98122      1.618e+05   6537.874     24.746      0.000    1.49e+05    1.75e+05\n",
      "zip98125      1.808e+04   5514.027      3.279      0.001    7272.497    2.89e+04\n",
      "zip98126       405.6831   5847.987      0.069      0.945   -1.11e+04    1.19e+04\n",
      "zip98133     -2.586e+04   5017.589     -5.154      0.000   -3.57e+04    -1.6e+04\n",
      "zip98136      6.663e+04   6751.107      9.870      0.000    5.34e+04    7.99e+04\n",
      "zip98144      7.864e+04   6082.531     12.929      0.000    6.67e+04    9.06e+04\n",
      "zip98146     -8.241e+04   6467.500    -12.742      0.000   -9.51e+04   -6.97e+04\n",
      "zip98148      -1.21e+05   1.41e+04     -8.598      0.000   -1.49e+05   -9.34e+04\n",
      "zip98155     -4.235e+04   5232.682     -8.093      0.000   -5.26e+04   -3.21e+04\n",
      "zip98166     -9.727e+04   6929.957    -14.036      0.000   -1.11e+05   -8.37e+04\n",
      "zip98168     -1.389e+05   6664.828    -20.843      0.000   -1.52e+05   -1.26e+05\n",
      "zip98177      3.637e+04   7076.751      5.140      0.000    2.25e+04    5.02e+04\n",
      "zip98178     -1.463e+05   6787.308    -21.557      0.000    -1.6e+05   -1.33e+05\n",
      "zip98188      -1.55e+05   9341.284    -16.597      0.000   -1.73e+05   -1.37e+05\n",
      "zip98198      -1.81e+05   6480.523    -27.933      0.000   -1.94e+05   -1.68e+05\n",
      "zip98199      1.966e+05   6364.698     30.893      0.000    1.84e+05    2.09e+05\n",
      "==============================================================================\n",
      "Omnibus:                     5925.997   Durbin-Watson:                   1.984\n",
      "Prob(Omnibus):                  0.000   Jarque-Bera (JB):            56930.947\n",
      "Skew:                           1.124   Prob(JB):                         0.00\n",
      "Kurtosis:                      10.885   Cond. No.                     2.31e+15\n",
      "==============================================================================\n",
      "\n",
      "Warnings:\n",
      "[1] Standard Errors assume that the covariance matrix of the errors is correctly specified.\n",
      "[2] The smallest eigenvalue is 1.37e-26. This might indicate that there are\n",
      "strong multicollinearity problems or that the design matrix is singular.\n"
     ]
    }
   ],
   "source": [
    "independent_vbles=list(df.columns)\n",
    "independent_vbles.remove('price')\n",
    "independent_vbles\n",
    "dependent_vble = 'price'\n",
    "#independent_vbles list defined above\n",
    "predictors = '+'.join(independent_vbles)\n",
    "formula = dependent_vble + \"~\" + predictors\n",
    "model = ols(formula=formula,data=df).fit()\n",
    "print(model.summary())"
   ]
  },
  {
   "cell_type": "markdown",
   "metadata": {},
   "source": [
    "<font color='green'>Let's find the regression's R-squared.</font>"
   ]
  },
  {
   "cell_type": "code",
   "execution_count": 79,
   "metadata": {},
   "outputs": [
    {
     "data": {
      "text/plain": [
       "0.8345318269933204"
      ]
     },
     "execution_count": 79,
     "metadata": {},
     "output_type": "execute_result"
    }
   ],
   "source": [
    "model.rsquared"
   ]
  },
  {
   "cell_type": "markdown",
   "metadata": {},
   "source": [
    "<font color='green'>We might be able to do better, but the R-squared is a healthy 83%.</font>"
   ]
  },
  {
   "cell_type": "markdown",
   "metadata": {},
   "source": [
    "<font color='green'>Let's find the p-values to see which variables are statistically significant.</font>"
   ]
  },
  {
   "cell_type": "code",
   "execution_count": 80,
   "metadata": {},
   "outputs": [
    {
     "data": {
      "text/plain": [
       "Intercept        1.937439e-07\n",
       "sqftlot          8.774588e-24\n",
       "sqftabove        0.000000e+00\n",
       "sqftbasement    6.627387e-287\n",
       "bed2             4.169910e-01\n",
       "bed3             6.087470e-02\n",
       "bed4             2.406271e-01\n",
       "bed5             7.306453e-01\n",
       "bath1p0          5.352569e-01\n",
       "bath1p5          6.226232e-01\n",
       "bath2p0          5.511492e-01\n",
       "bath2p5          5.461238e-01\n",
       "bath3p0          3.162173e-01\n",
       "bath3p5          2.171592e-01\n",
       "floors1p5        2.708772e-01\n",
       "floors2p0        1.227068e-12\n",
       "floors2p5        2.668275e-01\n",
       "floors3p0        1.689205e-43\n",
       "floors3p5        2.198041e-02\n",
       "water0p0         1.961252e-01\n",
       "water1p0         6.104533e-19\n",
       "view1p0          8.319619e-43\n",
       "view2p0          9.754036e-96\n",
       "view3p0         1.993139e-175\n",
       "view4p0         2.742700e-171\n",
       "cond2            1.874760e-02\n",
       "cond3            3.965886e-04\n",
       "cond4            2.730400e-06\n",
       "cond5            3.996822e-11\n",
       "grade4           2.129294e-01\n",
       "                    ...      \n",
       "zip98092        4.171655e-266\n",
       "zip98102        2.406282e-133\n",
       "zip98103        1.381875e-223\n",
       "zip98105        4.406605e-285\n",
       "zip98106         1.484134e-29\n",
       "zip98107        4.205767e-107\n",
       "zip98108         1.710821e-17\n",
       "zip98109        1.055401e-193\n",
       "zip98112         0.000000e+00\n",
       "zip98115        3.209300e-236\n",
       "zip98116         3.119448e-73\n",
       "zip98117        3.357518e-168\n",
       "zip98118         5.999997e-05\n",
       "zip98119        5.684298e-211\n",
       "zip98122        3.274703e-133\n",
       "zip98125         1.043554e-03\n",
       "zip98126         9.446947e-01\n",
       "zip98133         2.574243e-07\n",
       "zip98136         6.359060e-23\n",
       "zip98144         4.394418e-38\n",
       "zip98146         4.774962e-37\n",
       "zip98148         8.664412e-18\n",
       "zip98155         6.127856e-16\n",
       "zip98166         1.513159e-44\n",
       "zip98168         1.782552e-95\n",
       "zip98177         2.775839e-07\n",
       "zip98178        6.433388e-102\n",
       "zip98188         1.855628e-61\n",
       "zip98198        1.678521e-168\n",
       "zip98199        8.423895e-205\n",
       "Length: 108, dtype: float64"
      ]
     },
     "execution_count": 80,
     "metadata": {},
     "output_type": "execute_result"
    }
   ],
   "source": [
    "model.pvalues"
   ]
  },
  {
   "cell_type": "markdown",
   "metadata": {},
   "source": [
    "<font color='green'>p-Values are very high for the \"bathroom\" variables, so we'll remove them from our model.</font>"
   ]
  },
  {
   "cell_type": "code",
   "execution_count": 81,
   "metadata": {},
   "outputs": [
    {
     "data": {
      "text/plain": [
       "Index(['price', 'sqftlot', 'sqftabove', 'sqftbasement', 'bed2', 'bed3', 'bed4',\n",
       "       'bed5', 'floors1p5', 'floors2p0',\n",
       "       ...\n",
       "       'zip98146', 'zip98148', 'zip98155', 'zip98166', 'zip98168', 'zip98177',\n",
       "       'zip98178', 'zip98188', 'zip98198', 'zip98199'],\n",
       "      dtype='object', length=102)"
      ]
     },
     "execution_count": 81,
     "metadata": {},
     "output_type": "execute_result"
    }
   ],
   "source": [
    "df.drop(['bath1p0', 'bath1p5', 'bath2p0',\n",
    "       'bath2p5', 'bath3p0', 'bath3p5'],axis=1,inplace=True)\n",
    "df.columns"
   ]
  },
  {
   "cell_type": "code",
   "execution_count": 82,
   "metadata": {},
   "outputs": [
    {
     "name": "stdout",
     "output_type": "stream",
     "text": [
      "                            OLS Regression Results                            \n",
      "==============================================================================\n",
      "Dep. Variable:                  price   R-squared:                       0.833\n",
      "Model:                            OLS   Adj. R-squared:                  0.832\n",
      "Method:                 Least Squares   F-statistic:                     1029.\n",
      "Date:                Sun, 15 Sep 2019   Prob (F-statistic):               0.00\n",
      "Time:                        14:40:00   Log-Likelihood:            -2.6405e+05\n",
      "No. Observations:               20324   AIC:                         5.283e+05\n",
      "Df Residuals:                   20225   BIC:                         5.291e+05\n",
      "Df Model:                          98                                         \n",
      "Covariance Type:            nonrobust                                         \n",
      "================================================================================\n",
      "                   coef    std err          t      P>|t|      [0.025      0.975]\n",
      "--------------------------------------------------------------------------------\n",
      "Intercept     4.413e+05   7.19e+04      6.136      0.000       3e+05    5.82e+05\n",
      "sqftabove     1.062e+05   1539.715     69.006      0.000    1.03e+05    1.09e+05\n",
      "sqftbasement  1.719e+05   3998.116     42.992      0.000    1.64e+05     1.8e+05\n",
      "bed2          3736.3318   8112.928      0.461      0.645   -1.22e+04    1.96e+04\n",
      "bed3          1.135e+04   8113.631      1.398      0.162   -4558.218    2.72e+04\n",
      "bed4          5665.9015   8317.571      0.681      0.496   -1.06e+04     2.2e+04\n",
      "bed5         -3295.5445   8839.846     -0.373      0.709   -2.06e+04     1.4e+04\n",
      "floors1p5     3061.3407   2985.211      1.026      0.305   -2789.916    8912.598\n",
      "floors2p0    -1.972e+04   2369.997     -8.319      0.000   -2.44e+04   -1.51e+04\n",
      "floors2p5    -1.061e+04   1.03e+04     -1.028      0.304   -3.08e+04    9623.764\n",
      "floors3p0    -7.321e+04   5174.228    -14.150      0.000   -8.34e+04   -6.31e+04\n",
      "floors3p5    -9.268e+04   4.36e+04     -2.124      0.034   -1.78e+05   -7157.649\n",
      "water0p0      6.554e+04   3.62e+04      1.811      0.070   -5395.614    1.36e+05\n",
      "water1p0      3.757e+05    3.7e+04     10.146      0.000    3.03e+05    4.48e+05\n",
      "view1p0       8.799e+04   6380.940     13.790      0.000    7.55e+04       1e+05\n",
      "view2p0       8.309e+04   3947.977     21.046      0.000    7.53e+04    9.08e+04\n",
      "view3p0       1.612e+05   5595.954     28.801      0.000     1.5e+05    1.72e+05\n",
      "view4p0       2.606e+05   9285.595     28.068      0.000    2.42e+05    2.79e+05\n",
      "cond2         4.882e+04   2.19e+04      2.225      0.026    5817.054    9.18e+04\n",
      "cond3         6.574e+04   2.04e+04      3.226      0.001    2.58e+04    1.06e+05\n",
      "cond4         8.891e+04   2.04e+04      4.360      0.000    4.89e+04    1.29e+05\n",
      "cond5         1.289e+05   2.05e+04      6.283      0.000    8.87e+04    1.69e+05\n",
      "grade4       -1.286e+05   1.09e+05     -1.182      0.237   -3.42e+05    8.47e+04\n",
      "grade5       -1.654e+05   1.07e+05     -1.543      0.123   -3.76e+05    4.47e+04\n",
      "grade6       -1.691e+05   1.07e+05     -1.579      0.114   -3.79e+05    4.07e+04\n",
      "grade7       -1.545e+05   1.07e+05     -1.443      0.149   -3.64e+05    5.53e+04\n",
      "grade8       -1.134e+05   1.07e+05     -1.059      0.289   -3.23e+05    9.64e+04\n",
      "grade9       -2.618e+04   1.07e+05     -0.244      0.807   -2.36e+05    1.84e+05\n",
      "grade10       6.268e+04   1.07e+05      0.585      0.559   -1.47e+05    2.73e+05\n",
      "grade11       1.861e+05   1.07e+05      1.732      0.083   -2.45e+04    3.97e+05\n",
      "grade12       3.668e+05   1.11e+05      3.313      0.001     1.5e+05    5.84e+05\n",
      "zip98001     -1.928e+05   5730.669    -33.638      0.000   -2.04e+05   -1.82e+05\n",
      "zip98002     -1.859e+05   7780.844    -23.887      0.000   -2.01e+05   -1.71e+05\n",
      "zip98003     -1.911e+05   6544.422    -29.196      0.000   -2.04e+05   -1.78e+05\n",
      "zip98004      4.891e+05   6863.901     71.259      0.000    4.76e+05    5.03e+05\n",
      "zip98005      1.519e+05   8811.306     17.234      0.000    1.35e+05    1.69e+05\n",
      "zip98006      8.201e+04   5400.554     15.186      0.000    7.14e+04    9.26e+04\n",
      "zip98007      6.521e+04   9378.209      6.954      0.000    4.68e+04    8.36e+04\n",
      "zip98008      6.219e+04   6599.436      9.424      0.000    4.93e+04    7.51e+04\n",
      "zip98010     -1.101e+05   1.11e+04     -9.960      0.000   -1.32e+05   -8.84e+04\n",
      "zip98011     -4.643e+04   7736.107     -6.001      0.000   -6.16e+04   -3.13e+04\n",
      "zip98014     -9.446e+04   1.04e+04     -9.096      0.000   -1.15e+05   -7.41e+04\n",
      "zip98019     -8.746e+04   8171.411    -10.703      0.000   -1.03e+05   -7.14e+04\n",
      "zip98022     -1.977e+05   7481.112    -26.422      0.000   -2.12e+05   -1.83e+05\n",
      "zip98023     -2.138e+05   4966.187    -43.050      0.000   -2.24e+05   -2.04e+05\n",
      "zip98024      -2.49e+04   1.35e+04     -1.839      0.066   -5.14e+04    1634.501\n",
      "zip98027      2838.1714   5649.851      0.502      0.615   -8235.996    1.39e+04\n",
      "zip98028     -5.355e+04   6499.919     -8.239      0.000   -6.63e+04   -4.08e+04\n",
      "zip98029       3.06e+04   6249.669      4.896      0.000    1.83e+04    4.28e+04\n",
      "zip98030      -1.83e+05   6801.272    -26.907      0.000   -1.96e+05    -1.7e+05\n",
      "zip98031     -1.726e+05   6564.350    -26.296      0.000   -1.85e+05    -1.6e+05\n",
      "zip98032     -1.923e+05   9624.846    -19.981      0.000   -2.11e+05   -1.73e+05\n",
      "zip98033      1.555e+05   5493.908     28.312      0.000    1.45e+05    1.66e+05\n",
      "zip98034      3744.6945   4832.118      0.775      0.438   -5726.649    1.32e+04\n",
      "zip98038     -1.533e+05   4714.943    -32.514      0.000   -1.63e+05   -1.44e+05\n",
      "zip98039      7.399e+05   2.07e+04     35.799      0.000    6.99e+05     7.8e+05\n",
      "zip98040      2.949e+05   7376.793     39.973      0.000     2.8e+05    3.09e+05\n",
      "zip98042     -1.832e+05   4794.997    -38.197      0.000   -1.93e+05   -1.74e+05\n",
      "zip98045     -8.112e+04   7485.176    -10.838      0.000   -9.58e+04   -6.64e+04\n",
      "zip98052      6.142e+04   4710.869     13.037      0.000    5.22e+04    7.07e+04\n",
      "zip98053      4.353e+04   5837.804      7.457      0.000    3.21e+04     5.5e+04\n",
      "zip98055     -1.474e+05   6655.013    -22.155      0.000    -1.6e+05   -1.34e+05\n",
      "zip98056     -1.011e+05   5514.817    -18.325      0.000   -1.12e+05   -9.02e+04\n",
      "zip98058     -1.539e+05   5209.514    -29.548      0.000   -1.64e+05   -1.44e+05\n",
      "zip98059     -9.439e+04   5245.326    -17.994      0.000   -1.05e+05   -8.41e+04\n",
      "zip98065     -7.529e+04   6424.518    -11.720      0.000   -8.79e+04   -6.27e+04\n",
      "zip98070     -1.329e+05   1.08e+04    -12.255      0.000   -1.54e+05   -1.12e+05\n",
      "zip98072     -1.023e+04   6643.909     -1.539      0.124   -2.32e+04    2795.317\n",
      "zip98074      4271.2462   5448.366      0.784      0.433   -6407.995     1.5e+04\n",
      "zip98075      2.043e+04   6266.835      3.259      0.001    8141.924    3.27e+04\n",
      "zip98077     -3.658e+04   8205.412     -4.458      0.000   -5.27e+04   -2.05e+04\n",
      "zip98092     -2.102e+05   6017.211    -34.932      0.000   -2.22e+05   -1.98e+05\n",
      "zip98102      2.688e+05    1.1e+04     24.531      0.000    2.47e+05     2.9e+05\n",
      "zip98103      1.547e+05   4810.360     32.153      0.000    1.45e+05    1.64e+05\n",
      "zip98105      2.733e+05   7520.905     36.334      0.000    2.59e+05    2.88e+05\n",
      "zip98106     -6.912e+04   6049.533    -11.426      0.000    -8.1e+04   -5.73e+04\n",
      "zip98107       1.51e+05   6858.202     22.023      0.000    1.38e+05    1.64e+05\n",
      "zip98108      -6.92e+04   8021.098     -8.627      0.000   -8.49e+04   -5.35e+04\n",
      "zip98109      3.116e+05   1.05e+04     29.686      0.000    2.91e+05    3.32e+05\n",
      "zip98112      3.614e+05   7238.226     49.926      0.000    3.47e+05    3.76e+05\n",
      "zip98115      1.539e+05   4673.278     32.924      0.000    1.45e+05    1.63e+05\n",
      "zip98116      1.091e+05   6128.729     17.802      0.000    9.71e+04    1.21e+05\n",
      "zip98117      1.322e+05   4803.976     27.511      0.000    1.23e+05    1.42e+05\n",
      "zip98118     -2.201e+04   5042.857     -4.366      0.000   -3.19e+04   -1.21e+04\n",
      "zip98119      2.603e+05   8406.664     30.960      0.000    2.44e+05    2.77e+05\n",
      "zip98122        1.6e+05   6529.210     24.513      0.000    1.47e+05    1.73e+05\n",
      "zip98125       1.69e+04   5505.315      3.069      0.002    6105.912    2.77e+04\n",
      "zip98126     -1603.2784   5849.925     -0.274      0.784   -1.31e+04    9863.050\n",
      "zip98133     -2.743e+04   5004.304     -5.481      0.000   -3.72e+04   -1.76e+04\n",
      "zip98136        6.5e+04   6751.363      9.627      0.000    5.18e+04    7.82e+04\n",
      "zip98144      7.587e+04   6071.904     12.494      0.000     6.4e+04    8.78e+04\n",
      "zip98146     -8.385e+04   6472.056    -12.955      0.000   -9.65e+04   -7.12e+04\n",
      "zip98148     -1.229e+05   1.41e+04     -8.695      0.000   -1.51e+05   -9.52e+04\n",
      "zip98155     -4.303e+04   5239.107     -8.213      0.000   -5.33e+04   -3.28e+04\n",
      "zip98166     -9.814e+04   6941.912    -14.137      0.000   -1.12e+05   -8.45e+04\n",
      "zip98168     -1.393e+05   6667.752    -20.887      0.000   -1.52e+05   -1.26e+05\n",
      "zip98177       3.37e+04   7084.797      4.756      0.000    1.98e+04    4.76e+04\n",
      "zip98178     -1.478e+05   6795.377    -21.747      0.000   -1.61e+05   -1.34e+05\n",
      "zip98188     -1.554e+05   9369.182    -16.589      0.000   -1.74e+05   -1.37e+05\n",
      "zip98198     -1.816e+05   6487.651    -27.992      0.000   -1.94e+05   -1.69e+05\n",
      "zip98199       1.93e+05   6356.871     30.365      0.000    1.81e+05    2.05e+05\n",
      "==============================================================================\n",
      "Omnibus:                     5916.399   Durbin-Watson:                   1.983\n",
      "Prob(Omnibus):                  0.000   Jarque-Bera (JB):            54641.475\n",
      "Skew:                           1.133   Prob(JB):                         0.00\n",
      "Kurtosis:                      10.706   Cond. No.                     2.32e+15\n",
      "==============================================================================\n",
      "\n",
      "Warnings:\n",
      "[1] Standard Errors assume that the covariance matrix of the errors is correctly specified.\n",
      "[2] The smallest eigenvalue is 1.27e-26. This might indicate that there are\n",
      "strong multicollinearity problems or that the design matrix is singular.\n"
     ]
    }
   ],
   "source": [
    "df.drop('sqftlot',axis=1,inplace=True)\n",
    "independent_vbles=list(df.columns)\n",
    "independent_vbles.remove('price')\n",
    "independent_vbles\n",
    "dependent_vble = 'price'\n",
    "#independent_vbles list defined above\n",
    "predictors = '+'.join(independent_vbles)\n",
    "formula = dependent_vble + \"~\" + predictors\n",
    "model = ols(formula=formula,data=df).fit()\n",
    "print(model.summary())"
   ]
  },
  {
   "cell_type": "markdown",
   "metadata": {},
   "source": [
    "<font color='green'>The R-squared of our final model:</font>"
   ]
  },
  {
   "cell_type": "code",
   "execution_count": 83,
   "metadata": {},
   "outputs": [
    {
     "data": {
      "text/plain": [
       "0.8328854462562446"
      ]
     },
     "execution_count": 83,
     "metadata": {},
     "output_type": "execute_result"
    }
   ],
   "source": [
    "model.rsquared"
   ]
  },
  {
   "cell_type": "markdown",
   "metadata": {},
   "source": [
    "<font color='green'>The coefficients of our final model:</font>"
   ]
  },
  {
   "cell_type": "code",
   "execution_count": 84,
   "metadata": {},
   "outputs": [
    {
     "data": {
      "text/plain": [
       "Intercept       441274.414932\n",
       "sqftabove       106249.220651\n",
       "sqftbasement    171885.064995\n",
       "bed2              3736.331832\n",
       "bed3             11345.158282\n",
       "bed4              5665.901468\n",
       "bed5             -3295.544493\n",
       "floors1p5         3061.340673\n",
       "floors2p0       -19717.100518\n",
       "floors2p5       -10607.640922\n",
       "floors3p0       -73212.790685\n",
       "floors3p5       -92683.465053\n",
       "water0p0         65543.541010\n",
       "water1p0        375730.873922\n",
       "view1p0          87990.819710\n",
       "view2p0          83087.251534\n",
       "view3p0         161170.601005\n",
       "view4p0         260624.737411\n",
       "cond2            48822.421523\n",
       "cond3            65737.734694\n",
       "cond4            88914.095534\n",
       "cond5           128904.665025\n",
       "grade4         -128585.514628\n",
       "grade5         -165405.424282\n",
       "grade6         -169079.623859\n",
       "grade7         -154510.006011\n",
       "grade8         -113442.506967\n",
       "grade9          -26184.252576\n",
       "grade10          62678.395295\n",
       "grade11         186135.809676\n",
       "                    ...      \n",
       "zip98092       -210191.423354\n",
       "zip98102        268759.480884\n",
       "zip98103        154665.922923\n",
       "zip98105        273265.406176\n",
       "zip98106        -69120.549952\n",
       "zip98107        151036.754426\n",
       "zip98108        -69198.603964\n",
       "zip98109        311614.113194\n",
       "zip98112        361372.727512\n",
       "zip98115        153862.676463\n",
       "zip98116        109102.115145\n",
       "zip98117        132162.249705\n",
       "zip98118        -22014.694954\n",
       "zip98119        260268.260901\n",
       "zip98122        160049.440102\n",
       "zip98125         16896.775668\n",
       "zip98126         -1603.278377\n",
       "zip98133        -27429.780040\n",
       "zip98136         64997.212121\n",
       "zip98144         75865.329511\n",
       "zip98146        -83846.760362\n",
       "zip98148       -122853.544231\n",
       "zip98155        -43030.995007\n",
       "zip98166        -98138.704202\n",
       "zip98168       -139266.323986\n",
       "zip98177         33698.003796\n",
       "zip98178       -147781.780144\n",
       "zip98188       -155426.944411\n",
       "zip98198       -181601.862628\n",
       "zip98199        193027.208845\n",
       "Length: 101, dtype: float64"
      ]
     },
     "execution_count": 84,
     "metadata": {},
     "output_type": "execute_result"
    }
   ],
   "source": [
    "model.params"
   ]
  },
  {
   "cell_type": "code",
   "execution_count": 85,
   "metadata": {},
   "outputs": [
    {
     "data": {
      "text/plain": [
       "Text(0, 0.5, 'Value')"
      ]
     },
     "execution_count": 85,
     "metadata": {},
     "output_type": "execute_result"
    },
    {
     "data": {
      "image/png": "[encoded data removed]",
      "text/plain": [
       "<Figure size 720x720 with 1 Axes>"
      ]
     },
     "metadata": {
      "needs_background": "light"
     },
     "output_type": "display_data"
    }
   ],
   "source": [
    "model.params.sort_values(ascending=False).head(20).plot(kind='bar',figsize=(10,10))\n",
    "plt.title('Most Significant Paramaters in Regression Model')\n",
    "plt.xlabel('Parameter')\n",
    "plt.ylabel('Value')"
   ]
  },
  {
   "cell_type": "markdown",
   "metadata": {},
   "source": [
    "<font color='green'>Confirm high accuracy under Train/Test/Split so as not to overfit. </font>"
   ]
  },
  {
   "cell_type": "code",
   "execution_count": 96,
   "metadata": {},
   "outputs": [
    {
     "name": "stdout",
     "output_type": "stream",
     "text": [
      "R^2: 0.8325249797260971\n"
     ]
    }
   ],
   "source": [
    "from sklearn.linear_model import LinearRegression\n",
    "from sklearn.model_selection import train_test_split\n",
    "\n",
    "def linear_regression(X, y):\n",
    "    \n",
    "    X_train, X_test, y_train, y_test = train_test_split(X, y, test_size=0.25)\n",
    "    linreg = LinearRegression()\n",
    "    linreg.fit(X_train, y_train)\n",
    "    print('R^2:',linreg.score(X, y))\n",
    "    \n",
    "X = df.drop(['price'],axis=1)\n",
    "y = df.price\n",
    "\n",
    "linear_regression(X,y)"
   ]
  },
  {
   "cell_type": "markdown",
   "metadata": {},
   "source": [
    "R^2 is still 83% with train/test/split, minimal over-fitting."
   ]
  },
  {
   "cell_type": "markdown",
   "metadata": {},
   "source": [
    "<font color='green'>Let's understand several significant coefficients and their impact on the house price. </font>"
   ]
  },
  {
   "cell_type": "markdown",
   "metadata": {},
   "source": [
    "<font color='green'>Variable 1: Whether the home is in a desirable zipcode. </font>"
   ]
  },
  {
   "cell_type": "markdown",
   "metadata": {},
   "source": [
    "<font color='blue'>The model coefficient differs based on zip code. For example, the highest coefficient is zip code 98039, which corresponds to Medina, WA, followed by zip code 98004, which corresponds to Bellevue, WA. Houses are likely to go for a premium in these zip codes.</font>"
   ]
  },
  {
   "cell_type": "markdown",
   "metadata": {},
   "source": [
    "<font color='green'>Variable 2: Whether the home has a waterfront view. </font>"
   ]
  },
  {
   "cell_type": "markdown",
   "metadata": {},
   "source": [
    "<font color='blue'>The model coefficient is high for homes that have a waterfront view. Houses are likely to go for a premium if they are waterfront.</font>"
   ]
  },
  {
   "cell_type": "markdown",
   "metadata": {},
   "source": [
    "<font color='green'>Variable 3: Whether the home has a grade of 12. </font>"
   ]
  },
  {
   "cell_type": "markdown",
   "metadata": {},
   "source": [
    "<font color='blue'>Homes with high grades (eg., a grade of 12) go for higher value. </font>"
   ]
  },
  {
   "cell_type": "markdown",
   "metadata": {},
   "source": [
    "<font color='green'>Next Steps: </font>"
   ]
  },
  {
   "cell_type": "markdown",
   "metadata": {},
   "source": [
    "<font color='blue'>Analyze more variables: latitude, longitude, day of the week of sale. </font>"
   ]
  },
  {
   "cell_type": "markdown",
   "metadata": {},
   "source": [
    "<font color='blue'>Run other types of algorithms, such as random forests or non-linear regression. </font>"
   ]
  }
 ],
 "metadata": {
  "kernelspec": {
   "display_name": "Python 3",
   "language": "python",
   "name": "python3"
  },
  "language_info": {
   "codemirror_mode": {
    "name": "ipython",
    "version": 3
   },
   "file_extension": ".py",
   "mimetype": "text/x-python",
   "name": "python",
   "nbconvert_exporter": "python",
   "pygments_lexer": "ipython3",
   "version": "3.7.3"
  }
 },
 "nbformat": 4,
 "nbformat_minor": 2
}
